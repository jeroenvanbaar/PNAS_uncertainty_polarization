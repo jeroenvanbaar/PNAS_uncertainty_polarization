{
 "cells": [
  {
   "cell_type": "code",
   "execution_count": null,
   "metadata": {},
   "outputs": [],
   "source": [
    "import os, re, glob, json, sys, scipy\n",
    "import numpy as np\n",
    "import pandas as pd\n",
    "import matplotlib.pyplot as plt\n",
    "import seaborn as sns"
   ]
  },
  {
   "cell_type": "code",
   "execution_count": null,
   "metadata": {},
   "outputs": [],
   "source": [
    "base_dir = os.path.realpath('../..')\n",
    "print(base_dir)\n",
    "data_dir = base_dir + '/Data'"
   ]
  },
  {
   "cell_type": "code",
   "execution_count": null,
   "metadata": {},
   "outputs": [],
   "source": [
    "ID_dat = pd.read_csv(data_dir + \n",
    "             '/Cleaned/Surveys/ID_dat.csv',\n",
    "                    index_col = 0, dtype = {'SubID':str})"
   ]
  },
  {
   "cell_type": "code",
   "execution_count": null,
   "metadata": {},
   "outputs": [],
   "source": [
    "ID_dat.head()"
   ]
  },
  {
   "cell_type": "code",
   "execution_count": null,
   "metadata": {},
   "outputs": [],
   "source": [
    "colnames = ','.join(ID_dat.columns)\n",
    "colnames"
   ]
  },
  {
   "cell_type": "markdown",
   "metadata": {},
   "source": [
    "## Exclusions"
   ]
  },
  {
   "cell_type": "code",
   "execution_count": null,
   "metadata": {},
   "outputs": [],
   "source": [
    "excl = pd.read_csv(base_dir + '/Data/Subjects_and_exclusions/exclude_ideology.csv')['sub'].values.tolist()\n",
    "excl"
   ]
  },
  {
   "cell_type": "code",
   "execution_count": null,
   "metadata": {},
   "outputs": [],
   "source": [
    "ID_dat_clean = ID_dat.loc[~ID_dat['SubID'].astype(int).isin(excl),:]\n",
    "ID_dat_clean.shape"
   ]
  },
  {
   "cell_type": "markdown",
   "metadata": {},
   "source": [
    "## Plotting settings"
   ]
  },
  {
   "cell_type": "code",
   "execution_count": null,
   "metadata": {},
   "outputs": [],
   "source": [
    "ic_palette = sns.color_palette('RdBu_r',7)\n",
    "sns.set_palette([ic_palette[0],ic_palette[6]])"
   ]
  },
  {
   "cell_type": "markdown",
   "metadata": {},
   "source": [
    "## Did we manage to approximately control some variables?"
   ]
  },
  {
   "cell_type": "code",
   "execution_count": null,
   "metadata": {},
   "outputs": [],
   "source": [
    "vars_to_control = ['Age','school_num','OwnIncome','IdeologyScale_1']\n",
    "vars_nice_names = ['Age', 'Education\\n(years)','Annual\\nIncome (bin)', 'Ideology\\n(Conservatism)']"
   ]
  },
  {
   "cell_type": "code",
   "execution_count": null,
   "metadata": {},
   "outputs": [],
   "source": [
    "income_mapper = {'Less than $20,000':1,'$20,000 to $34,999':2,\n",
    "                '$35,000 to $49,999':3,'$50,000 to $74,999':4,\n",
    "                '$75,000 to $99,999':5,'$100,000 to $149,999':6,\n",
    "                '$150,000 to $199,999':7,'$200,000 or more':8}"
   ]
  },
  {
   "cell_type": "code",
   "execution_count": null,
   "metadata": {},
   "outputs": [],
   "source": [
    "sns.set_context('talk')\n",
    "precision = 5\n",
    "poles = ['Liberal','Conservative']\n",
    "fig, axes = plt.subplots(ncols = len(vars_to_control), nrows = 1,\n",
    "                         figsize = [len(vars_to_control)*4,4])\n",
    "for vi,var in enumerate(vars_to_control):\n",
    "    ax = axes[vi]\n",
    "    compdat = []\n",
    "    for pi,pole in enumerate(poles):\n",
    "        abbr = pole[0]\n",
    "        if (var == 'OwnIncome'):\n",
    "            dat = ID_dat_clean.query('pole == @abbr')[var].map(income_mapper)\n",
    "        else:\n",
    "            dat = ID_dat_clean.query('pole == @abbr')[var]\n",
    "        compdat.append(dat)\n",
    "        sns.distplot(dat, rug = True, kde = True, label = pole, ax = ax)\n",
    "    stats = scipy.stats.ttest_ind(compdat[0],compdat[1])\n",
    "    df = len(compdat[0]) + len(compdat[1]) - 2\n",
    "    ax.set(ylabel = 'Frequency', xlabel = vars_nice_names[vi],\n",
    "           title = 't(%i) = %.2f, p = %.3f'%(df,stats[0],stats[1]))\n",
    "    h,l = ax.get_legend_handles_labels()\n",
    "    ax.legend(h,['L','C'])\n",
    "plt.tight_layout()\n",
    "# plt.legend(loc = [1.1,.5])\n",
    "\n",
    "# plt.savefig(base_dir + '/Results/Individual_differences/Ideology_self_report.pdf',\n",
    "#             transparent = True, bbox_inches = 'tight')\n",
    "# plt.savefig(base_dir + '/Results/Individual_differences/Ideology_self_report.png',\n",
    "#             transparent = True, bbox_inches = 'tight', dpi = 500)"
   ]
  },
  {
   "cell_type": "markdown",
   "metadata": {},
   "source": [
    "## Count Gender"
   ]
  },
  {
   "cell_type": "code",
   "execution_count": null,
   "metadata": {},
   "outputs": [],
   "source": [
    "ID_dat_clean[['pole','Gender','Age']].groupby(['pole','Gender'],as_index=False).count()"
   ]
  },
  {
   "cell_type": "markdown",
   "metadata": {},
   "source": [
    "## Compute age"
   ]
  },
  {
   "cell_type": "code",
   "execution_count": null,
   "metadata": {},
   "outputs": [],
   "source": [
    "ID_dat_clean[['pole','Age']].groupby(['pole'],as_index=False).describe()"
   ]
  },
  {
   "cell_type": "code",
   "execution_count": null,
   "metadata": {},
   "outputs": [],
   "source": []
  }
 ],
 "metadata": {
  "kernelspec": {
   "display_name": "Python 3",
   "language": "python",
   "name": "python3"
  },
  "language_info": {
   "codemirror_mode": {
    "name": "ipython",
    "version": 3
   },
   "file_extension": ".py",
   "mimetype": "text/x-python",
   "name": "python",
   "nbconvert_exporter": "python",
   "pygments_lexer": "ipython3",
   "version": "3.7.3"
  }
 },
 "nbformat": 4,
 "nbformat_minor": 2
}
