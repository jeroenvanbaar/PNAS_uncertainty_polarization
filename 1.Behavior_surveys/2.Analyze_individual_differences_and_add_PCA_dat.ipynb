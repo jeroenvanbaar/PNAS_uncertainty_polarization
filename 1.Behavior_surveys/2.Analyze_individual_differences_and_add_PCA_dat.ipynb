{
 "cells": [
  {
   "cell_type": "markdown",
   "metadata": {},
   "source": [
    "Goals:\n",
    "* PCA on political/values measures\n",
    "* Estimate 'quality' of participants as representatives of conservatives/liberals (i.e. check correspondence between ideology slider measure during prescreen and long ideology value surveys during experiment)"
   ]
  },
  {
   "cell_type": "code",
   "execution_count": null,
   "metadata": {},
   "outputs": [],
   "source": [
    "import os\n",
    "import numpy as np\n",
    "import pandas as pd\n",
    "import scipy as sp\n",
    "import scipy.spatial\n",
    "import scipy.stats\n",
    "import matplotlib.pyplot as plt\n",
    "import seaborn as sns\n",
    "import re"
   ]
  },
  {
   "cell_type": "markdown",
   "metadata": {},
   "source": [
    "##### Load data"
   ]
  },
  {
   "cell_type": "code",
   "execution_count": null,
   "metadata": {},
   "outputs": [],
   "source": [
    "base_dir = os.path.realpath('../..')\n",
    "print(base_dir)\n",
    "data_dir = base_dir + '/Data'"
   ]
  },
  {
   "cell_type": "code",
   "execution_count": null,
   "metadata": {},
   "outputs": [],
   "source": [
    "ID_dat = pd.read_csv(data_dir + \n",
    "             '/Cleaned/Surveys/ID_dat.csv',\n",
    "                    index_col = 0, dtype = {'SubID':str})\n",
    "print(ID_dat.shape)"
   ]
  },
  {
   "cell_type": "markdown",
   "metadata": {},
   "source": [
    "##### Show"
   ]
  },
  {
   "cell_type": "code",
   "execution_count": null,
   "metadata": {},
   "outputs": [],
   "source": [
    "ID_dat.head()"
   ]
  },
  {
   "cell_type": "code",
   "execution_count": null,
   "metadata": {},
   "outputs": [],
   "source": [
    "colnames = ','.join(ID_dat.columns)\n",
    "colnames"
   ]
  },
  {
   "cell_type": "markdown",
   "metadata": {},
   "source": [
    "## Does IUS correlate with ideology or extremism?"
   ]
  },
  {
   "cell_type": "code",
   "execution_count": null,
   "metadata": {},
   "outputs": [],
   "source": [
    "metric = 'IUS_mean'"
   ]
  },
  {
   "cell_type": "code",
   "execution_count": null,
   "metadata": {},
   "outputs": [],
   "source": [
    "# Exclusions\n",
    "# We only need to exclude subject 34 here, as this person misrepresented their ideology in the screening survey.\n",
    "# The other exclusions are mostly relevant for analyzing the brain data, e.g. exclusions due to motion.\n",
    "exclude = ['%i'%sub for sub in \n",
    "           pd.read_csv(data_dir + '/Subjects_and_exclusions/exclude_ideology.csv', index_col=0).values.flatten().tolist()]\n",
    "print(exclude)\n",
    "tmp_dat = ID_dat.loc[~ID_dat['SubID'].isin(exclude),:].copy()\n",
    "print(tmp_dat.shape)"
   ]
  },
  {
   "cell_type": "code",
   "execution_count": null,
   "metadata": {},
   "outputs": [],
   "source": [
    "sns.set(context = 'notebook', style = 'whitegrid', font = 'arial')"
   ]
  },
  {
   "cell_type": "code",
   "execution_count": null,
   "metadata": {},
   "outputs": [],
   "source": [
    "plt.scatter(tmp_dat['IdeologyScale_1'],tmp_dat[metric])"
   ]
  },
  {
   "cell_type": "code",
   "execution_count": null,
   "metadata": {},
   "outputs": [],
   "source": [
    "scipy.stats.pearsonr(tmp_dat['IdeologyScale_1'],tmp_dat[metric])"
   ]
  },
  {
   "cell_type": "code",
   "execution_count": null,
   "metadata": {},
   "outputs": [],
   "source": [
    "plt.scatter(np.abs(tmp_dat['IdeologyScale_1']-50),tmp_dat[metric])"
   ]
  },
  {
   "cell_type": "code",
   "execution_count": null,
   "metadata": {},
   "outputs": [],
   "source": [
    "scipy.stats.pearsonr(np.abs(tmp_dat['IdeologyScale_1']-50),tmp_dat[metric])"
   ]
  },
  {
   "cell_type": "markdown",
   "metadata": {},
   "source": [
    "## Comments"
   ]
  },
  {
   "cell_type": "code",
   "execution_count": null,
   "metadata": {},
   "outputs": [],
   "source": [
    "debrief_dat = ID_dat[['SubID','DebriefComments']].copy()\n",
    "debrief_dat.dropna(inplace=True)\n",
    "debrief_dat = debrief_dat.set_index('SubID')\n",
    "debrief_dat.to_dict()"
   ]
  },
  {
   "cell_type": "markdown",
   "metadata": {},
   "source": [
    "## Ideology scale"
   ]
  },
  {
   "cell_type": "code",
   "execution_count": null,
   "metadata": {},
   "outputs": [],
   "source": [
    "sns.set(context = 'talk', font = 'arial', style = 'ticks')\n",
    "ic_palette = sns.color_palette('RdBu_r',7)\n",
    "sns.set_palette([ic_palette[0],ic_palette[6]])\n",
    "precision = 5\n",
    "fig,ax = plt.subplots(1,1,figsize=[6,4])\n",
    "sns.distplot(ID_dat.query('IdeologyScale_1 < 50')['IdeologyScale_1'],\n",
    "            bins = np.arange(0 - precision/2,105 + precision/2,precision), rug = True, kde = False,\n",
    "            label = 'Liberal', ax = ax)\n",
    "sns.distplot(ID_dat.query('IdeologyScale_1 > 50')['IdeologyScale_1'],\n",
    "            bins = np.arange(0 - precision/2,105 + precision/2,precision), rug = True, kde = False,\n",
    "            label = 'Conservative', ax = ax)\n",
    "ax.set_xlim([0 - precision/2,100 + precision/2])\n",
    "ax.legend(frameon = False)\n",
    "for _,s in ax.spines.items():\n",
    "    s.set_linewidth(1)\n",
    "    s.set_color('k')\n",
    "ax.set(ylabel = 'Frequency', xlabel = 'Ideology self-report')\n",
    "ax.plot([50,50], [0,5],'k--', lw = 1)\n",
    "plt.savefig(base_dir + '/Results/Individual_differences/Ideology_self_report.pdf',\n",
    "            transparent = True, bbox_inches = 'tight')\n",
    "plt.savefig(base_dir + '/Results/Individual_differences/Ideology_self_report.png',\n",
    "            transparent = True, bbox_inches = 'tight', dpi = 500)"
   ]
  },
  {
   "cell_type": "markdown",
   "metadata": {},
   "source": [
    "# The following sections are used to compare responses on the longer-form ideology surveys (SECS, SDO etc) to the ideology self-report in the prescreener"
   ]
  },
  {
   "cell_type": "markdown",
   "metadata": {},
   "source": [
    "## SECS"
   ]
  },
  {
   "cell_type": "markdown",
   "metadata": {},
   "source": [
    "SECS by political identity:"
   ]
  },
  {
   "cell_type": "code",
   "execution_count": null,
   "metadata": {},
   "outputs": [],
   "source": [
    "sns.set(context='notebook', font = 'arial')"
   ]
  },
  {
   "cell_type": "code",
   "execution_count": null,
   "metadata": {},
   "outputs": [],
   "source": [
    "ic_options = ['Progressive', 'Liberal', 'Other', 'Moderate', 'Libertarian','Conservative']\n",
    "ic_palette = sns.color_palette('RdBu_r',len(ic_options))\n",
    "ic_palette[2] = [.7,.7,.7]\n",
    "ic_palette[3] = sns.color_palette('Greens',1)[0]\n",
    "sns.set_palette(ic_palette)"
   ]
  },
  {
   "cell_type": "code",
   "execution_count": null,
   "metadata": {},
   "outputs": [],
   "source": [
    "fig, ax = plt.subplots(ncols=3,nrows=1,figsize=[14,4])\n",
    "cols = ['SECS_total','SECS_social','SECS_economic']\n",
    "for coli,col in enumerate(cols):\n",
    "    sns.scatterplot(data = ID_dat, x = 'IdeologyScale_1', y = col, ax = ax[coli],\n",
    "                    s = 50, hue = 'IdentityChoice', edgecolor = 'k', hue_order = ic_options)\n",
    "    hand,lab = ax[coli].get_legend_handles_labels()\n",
    "    ax[coli].get_legend().remove()\n",
    "    ax[coli].set(xlabel = 'Self-reported conservatism\\n(prescreening survey)',\n",
    "                title = col, ylabel = 'Score')\n",
    "ax[2].legend(hand,lab, loc = [1.1,0], title = 'Political identity choice\\n(prescreening survey)')\n",
    "plt.tight_layout()"
   ]
  },
  {
   "cell_type": "markdown",
   "metadata": {},
   "source": [
    "By party affiliation:"
   ]
  },
  {
   "cell_type": "code",
   "execution_count": null,
   "metadata": {},
   "outputs": [],
   "source": [
    "pc_options = ['Democrat: Strong', 'Democrat: Not very strong',\n",
    "       'Independent: Leaning Democrat', 'Independent', 'Other',\n",
    "       'Independent: Leaning Republican', 'Republican: Not very strong',\n",
    "       'Republican: Strong']\n",
    "pc_palette = sns.color_palette('RdBu_r',len(pc_options))\n",
    "pc_palette[3] = sns.color_palette('Greens',1)[0]\n",
    "pc_palette[4] = [.7,.7,.7]\n",
    "sns.set_palette(pc_palette)"
   ]
  },
  {
   "cell_type": "code",
   "execution_count": null,
   "metadata": {},
   "outputs": [],
   "source": [
    "fig, ax = plt.subplots(ncols=3,nrows=1,figsize=[14,4])\n",
    "cols = ['SECS_total','SECS_social','SECS_economic']\n",
    "for coli,col in enumerate(cols):\n",
    "    sns.scatterplot(data = ID_dat, x = 'IdeologyScale_1', y = col, ax = ax[coli],\n",
    "                    s = 50, hue = 'PartyChoice', hue_order = pc_options, edgecolor='k')\n",
    "    hand,lab = ax[coli].get_legend_handles_labels()\n",
    "    ax[coli].get_legend().remove()\n",
    "ax[2].legend(hand,lab, loc = [1.1,0])\n",
    "plt.tight_layout()"
   ]
  },
  {
   "cell_type": "markdown",
   "metadata": {},
   "source": [
    "By Social Conservatism identity:"
   ]
  },
  {
   "cell_type": "code",
   "execution_count": null,
   "metadata": {},
   "outputs": [],
   "source": [
    "ic_options = ['Progressive', 'Liberal', 'Moderate', 'Libertarian',\n",
    "              'Conservative']\n",
    "ic_palette = sns.color_palette('RdBu_r',len(ic_options))\n",
    "ic_palette[2] = sns.color_palette('Greens',1)[0]\n",
    "sns.set_palette(ic_palette)"
   ]
  },
  {
   "cell_type": "code",
   "execution_count": null,
   "metadata": {},
   "outputs": [],
   "source": [
    "fig, ax = plt.subplots(ncols=3,nrows=1,figsize=[14,4])\n",
    "cols = ['SECS_total','SECS_social','SECS_economic']\n",
    "for coli,col in enumerate(cols):\n",
    "    sns.scatterplot(data = ID_dat, x = 'IdeologyScale_1', y = col, ax = ax[coli],\n",
    "                    s = 50, hue = 'ConservatismSocial', edgecolor = 'k', hue_order = ic_options)\n",
    "    hand,lab = ax[coli].get_legend_handles_labels()\n",
    "    ax[coli].get_legend().remove()\n",
    "ax[2].legend(hand,lab, loc = [1.1,0])\n",
    "plt.tight_layout()"
   ]
  },
  {
   "cell_type": "code",
   "execution_count": null,
   "metadata": {},
   "outputs": [],
   "source": [
    "fig, ax = plt.subplots(ncols=3,nrows=1,figsize=[14,4])\n",
    "cols = ['SECS_total','SECS_social','SECS_economic']\n",
    "for coli,col in enumerate(cols):\n",
    "    sns.scatterplot(data = ID_dat, x = 'IdeologyScale_1', y = col, ax = ax[coli],\n",
    "                    s = 50, hue = 'ConservatismEconomic', edgecolor = 'k', hue_order = ic_options)\n",
    "    hand,lab = ax[coli].get_legend_handles_labels()\n",
    "    ax[coli].get_legend().remove()\n",
    "ax[2].legend(hand,lab, loc = [1.1,0])\n",
    "plt.tight_layout()"
   ]
  },
  {
   "cell_type": "markdown",
   "metadata": {},
   "source": [
    "## SECS items specifically referenced in video stimuli"
   ]
  },
  {
   "cell_type": "code",
   "execution_count": null,
   "metadata": {},
   "outputs": [],
   "source": [
    "pc_options = ['Democrat: Strong', 'Democrat: Not very strong',\n",
    "       'Independent: Leaning Democrat', 'Independent', 'Other',\n",
    "       'Independent: Leaning Republican', 'Republican: Not very strong',\n",
    "       'Republican: Strong']\n",
    "pc_palette = sns.color_palette('RdBu_r',len(pc_options))\n",
    "pc_palette[3] = sns.color_palette('Greens',1)[0]\n",
    "pc_palette[4] = [.7,.7,.7]\n",
    "sns.set_palette(pc_palette)"
   ]
  },
  {
   "cell_type": "code",
   "execution_count": null,
   "metadata": {},
   "outputs": [],
   "source": [
    "cols = ['SECS_1','SECS_6','SECS_3']\n",
    "col_labels = ['Abortion', 'Gun ownership', 'Military and national security']\n",
    "fig, ax = plt.subplots(ncols=3,nrows=1,figsize=[14,4])\n",
    "for coli,col in enumerate(cols):\n",
    "    sns.scatterplot(data = ID_dat, x = 'IdeologyScale_1', y = col, ax = ax[coli],\n",
    "                    s = 50, hue = 'PartyChoice', edgecolor = 'k', hue_order = pc_options)\n",
    "    hand,lab = ax[coli].get_legend_handles_labels()\n",
    "    ax[coli].get_legend().remove()\n",
    "    ax[coli].set(title = col_labels[coli], ylabel = 'Positivity of feeling toward issue\\n(lab session)',\n",
    "                xlabel = 'Self-reported conservatism\\n(prescreening survey)')\n",
    "ax[2].legend(hand,lab, loc = [1.1,0], title = 'Party choice in prescreening survey')\n",
    "plt.tight_layout()"
   ]
  },
  {
   "cell_type": "code",
   "execution_count": null,
   "metadata": {},
   "outputs": [],
   "source": [
    "ic_options = ['Progressive', 'Liberal', 'Other', 'Moderate',\n",
    "       'Libertarian', 'Conservative']\n",
    "ic_palette = sns.color_palette('RdBu_r',len(ic_options))\n",
    "ic_palette[2] = [.7,.7,.7]\n",
    "ic_palette[3] = sns.color_palette('Greens',1)[0]\n",
    "sns.set_palette(ic_palette)"
   ]
  },
  {
   "cell_type": "code",
   "execution_count": null,
   "metadata": {},
   "outputs": [],
   "source": [
    "cols = ['SECS_1','SECS_6','SECS_3']\n",
    "col_labels = ['Abortion', 'Gun ownership', 'Military and national security']\n",
    "fig, ax = plt.subplots(ncols=3,nrows=1,figsize=[14,4])\n",
    "for coli,col in enumerate(cols):\n",
    "    sns.scatterplot(data = ID_dat, x = 'IdeologyScale_1', y = col, ax = ax[coli],\n",
    "                    s = 50, hue = 'IdentityChoice', edgecolor = 'k', hue_order = ic_options)\n",
    "    hand,lab = ax[coli].get_legend_handles_labels()\n",
    "    ax[coli].get_legend().remove()\n",
    "    ax[coli].set(title = col_labels[coli], ylabel = 'Positivity of feeling toward issue\\n(lab session)',\n",
    "                xlabel = 'Self-reported conservatism\\n(prescreening survey)')\n",
    "ax[2].legend(hand,lab, loc = [1.1,0], title = 'Political identity choice\\n(prescreening survey)')\n",
    "plt.tight_layout()"
   ]
  },
  {
   "cell_type": "code",
   "execution_count": null,
   "metadata": {},
   "outputs": [],
   "source": [
    "ID_dat.query('SECS_6 < 10')[['SubID','IdeologyScale_1','SECS_6']]"
   ]
  },
  {
   "cell_type": "code",
   "execution_count": null,
   "metadata": {},
   "outputs": [],
   "source": [
    "ID_dat.query('SECS_1 > 90')[['SubID','IdeologyScale_1','SECS_1']]"
   ]
  },
  {
   "cell_type": "markdown",
   "metadata": {},
   "source": [
    "So subject 34 is liberal on abortion and gun control."
   ]
  },
  {
   "cell_type": "markdown",
   "metadata": {},
   "source": [
    "## S-SVS"
   ]
  },
  {
   "cell_type": "code",
   "execution_count": null,
   "metadata": {},
   "outputs": [],
   "source": [
    "survey_basename = 'SSVS'\n",
    "survey_dtype = int\n",
    "survey_cols = []\n",
    "for match in re.finditer(survey_basename,colnames):\n",
    "    survey_cols.append(colnames[match.span()[0]:match.span()[1]+3].strip(','))\n",
    "[print(survey_cols[i], end = '\\t') for i in range(len(survey_cols))];"
   ]
  },
  {
   "cell_type": "code",
   "execution_count": null,
   "metadata": {},
   "outputs": [],
   "source": [
    "ID_dat[survey_cols].head()"
   ]
  },
  {
   "cell_type": "code",
   "execution_count": null,
   "metadata": {},
   "outputs": [],
   "source": [
    "sns.heatmap(np.corrcoef(ID_dat[survey_cols], rowvar=False), square = True,\n",
    "           xticklabels = survey_cols, yticklabels = survey_cols, vmin = -1, vmax = 1)"
   ]
  },
  {
   "cell_type": "code",
   "execution_count": null,
   "metadata": {},
   "outputs": [],
   "source": [
    "from sklearn.decomposition import PCA\n",
    "from matplotlib.colors import ListedColormap\n",
    "RdBu_r_cmap = ListedColormap(sns.color_palette('RdBu_r',10).as_hex())"
   ]
  },
  {
   "cell_type": "code",
   "execution_count": null,
   "metadata": {},
   "outputs": [],
   "source": [
    "pca = PCA(n_components=2)\n",
    "SSVS_reduced = pca.fit_transform(ID_dat[survey_cols])"
   ]
  },
  {
   "cell_type": "code",
   "execution_count": null,
   "metadata": {},
   "outputs": [],
   "source": [
    "sns.set(context = 'notebook', style = 'whitegrid', font = 'arial')\n",
    "fig, ax  = plt.subplots(1,1,figsize=[6,5])\n",
    "im = ax.scatter(x = SSVS_reduced[:,0], y = SSVS_reduced[:,1],\n",
    "            c = ID_dat['IdeologyScale_1'],\n",
    "               s = 100, cmap = RdBu_r_cmap, edgecolor = None,\n",
    "           alpha = .6)\n",
    "for i in range(len(SSVS_reduced)):\n",
    "    ax.text(SSVS_reduced[i,0], SSVS_reduced[i,1],\n",
    "         ID_dat.loc[i,'SubID'])\n",
    "fig.colorbar(im, label = 'Conservatism')\n",
    "ax.set_xlabel('PC1 values\\nOpenness to change <--> Conservation');\n",
    "ax.set_ylabel('PC2 values\\nSelf-trancendence <--> Self-enhancement');\n",
    "ax.set_title('First 2 principal components\\n%.1f%% of SSVS variance explained'%(\n",
    "    np.sum(pca.explained_variance_ratio_[0:2])*100));\n",
    "plt.savefig(base_dir + '/Results/Individual_differences/SVSS_PCA.pdf',\n",
    "           bbox_inches='tight', transparent = True)"
   ]
  },
  {
   "cell_type": "code",
   "execution_count": null,
   "metadata": {},
   "outputs": [],
   "source": [
    "plt.scatter(x = ID_dat['IdeologyScale_1'], y = SSVS_reduced[:,0],\n",
    "            c = ID_dat['IdeologyScale_1'],\n",
    "               s = 100, cmap = RdBu_r_cmap, edgecolor = None,\n",
    "           alpha = .6)\n",
    "for i in range(len(SSVS_reduced)):\n",
    "    plt.text(ID_dat.loc[i,'IdeologyScale_1'], SSVS_reduced[i,0],\n",
    "         ID_dat.loc[i,'SubID'])\n",
    "plt.colorbar(label = 'Conservatism')\n",
    "plt.xlabel('Conservatism')\n",
    "plt.ylabel('PC1 values')\n",
    "plt.title('First principal component\\n%.1f%% of SSVS variance explained'%(\n",
    "    pca.explained_variance_ratio_[0]*100));"
   ]
  },
  {
   "cell_type": "code",
   "execution_count": null,
   "metadata": {},
   "outputs": [],
   "source": [
    "dem_indices = ID_dat.query('IdeologyScale_1 < 50').index.tolist()\n",
    "rep_indices = ID_dat.query('IdeologyScale_1 > 50').index.tolist()"
   ]
  },
  {
   "cell_type": "code",
   "execution_count": null,
   "metadata": {},
   "outputs": [],
   "source": [
    "sns.distplot(SSVS_reduced[dem_indices,0], 20, color = 'b',\n",
    "        kde = True, rug=True)\n",
    "sns.distplot(SSVS_reduced[rep_indices,0], 20, color = 'r',\n",
    "        kde = True, rug = True)"
   ]
  },
  {
   "cell_type": "code",
   "execution_count": null,
   "metadata": {},
   "outputs": [],
   "source": [
    "sns.set_context('talk')\n",
    "plt.bar(x = -0.25 + np.arange(1,11), height = pca.components_[0],\n",
    "        width = .5, label = 'PC1')\n",
    "plt.bar(x = 0.25 + np.arange(1,11), height = pca.components_[1],\n",
    "        width = .5, label = 'PC2')\n",
    "values_list = 'Power Achievement Hedonism Stimulation Self-direction Universalism Benevolence Tradition Conformism Security'.split(' ')\n",
    "plt.xticks(np.arange(1,11), values_list, rotation = 90);\n",
    "plt.legend(loc = 'lower right');\n",
    "plt.savefig(base_dir + '/Results/Individual_differences/SVSS_PCA_loadings.pdf',\n",
    "           bbox_inches='tight', transparent = True)"
   ]
  },
  {
   "cell_type": "markdown",
   "metadata": {},
   "source": [
    "##### So it looks like the first component that the S-SVS picks up on is actually conservatism."
   ]
  },
  {
   "cell_type": "markdown",
   "metadata": {},
   "source": [
    "## RWA"
   ]
  },
  {
   "cell_type": "code",
   "execution_count": null,
   "metadata": {},
   "outputs": [],
   "source": [
    "subscale_cols = ['RWA_Aggression',\n",
    "    'RWA_Submission','RWA_Conventionalism', 'RWA_total']\n",
    "sns.heatmap(np.corrcoef(ID_dat[subscale_cols], rowvar=False),\n",
    "            square = True, xticklabels = subscale_cols,\n",
    "            yticklabels = subscale_cols, vmin = -1, vmax = 1)"
   ]
  },
  {
   "cell_type": "code",
   "execution_count": null,
   "metadata": {},
   "outputs": [],
   "source": [
    "sns.set(context = 'notebook', style = 'whitegrid', font = 'arial')\n",
    "fig, ax  = plt.subplots(1,1,figsize=[6,5])\n",
    "im = ax.scatter(x = ID_dat['IdeologyScale_1'],\n",
    "                y = ID_dat['RWA_total'],\n",
    "            c = ID_dat['IdeologyScale_1'],\n",
    "               s = 100, cmap = RdBu_r_cmap, edgecolor = None,\n",
    "           alpha = .6)\n",
    "for sub in ID_dat['SubID'].unique():\n",
    "    sub_dat = ID_dat.query('SubID == @sub').copy()\n",
    "    ax.text(sub_dat['IdeologyScale_1'],\n",
    "            sub_dat['RWA_total'],\n",
    "         sub)\n",
    "fig.colorbar(im, label = 'Conservatism')\n",
    "ax.set_xlabel('Conservatism');\n",
    "ax.set_ylabel('Right-wing authoritarianism');\n",
    "ax.set(title = 'RWA')"
   ]
  },
  {
   "cell_type": "markdown",
   "metadata": {},
   "source": [
    "## LWA"
   ]
  },
  {
   "cell_type": "code",
   "execution_count": null,
   "metadata": {},
   "outputs": [],
   "source": [
    "sns.set(context = 'notebook', style = 'whitegrid', font = 'arial')\n",
    "\n",
    "subscale_cols = ['RWA_total','LWA_total']\n",
    "sns.relplot(data = ID_dat, x = 'RWA_total', y = 'LWA_total')"
   ]
  },
  {
   "cell_type": "code",
   "execution_count": null,
   "metadata": {},
   "outputs": [],
   "source": [
    "sns.set(context = 'notebook', style = 'whitegrid', font = 'arial')\n",
    "fig, ax  = plt.subplots(1,1,figsize=[6,5])\n",
    "im = ax.scatter(x = ID_dat['IdeologyScale_1'],\n",
    "                y = ID_dat['LWA_total'],\n",
    "            c = ID_dat['IdeologyScale_1'],\n",
    "               s = 100, cmap = RdBu_r_cmap, edgecolor = None,\n",
    "           alpha = .6)\n",
    "for sub in ID_dat['SubID'].unique():\n",
    "    sub_dat = ID_dat.query('SubID == @sub').copy()\n",
    "    ax.text(sub_dat['IdeologyScale_1'],\n",
    "            sub_dat['LWA_total'],\n",
    "         sub)\n",
    "fig.colorbar(im, label = 'Conservatism')\n",
    "ax.set_xlabel('Conservatism');\n",
    "ax.set_ylabel('Left-wing authoritarianism');\n",
    "ax.set(title = 'LWA')"
   ]
  },
  {
   "cell_type": "markdown",
   "metadata": {},
   "source": [
    "## SDO-7(s)"
   ]
  },
  {
   "cell_type": "code",
   "execution_count": null,
   "metadata": {},
   "outputs": [],
   "source": [
    "sns.set(context = 'notebook', style = 'whitegrid', font = 'arial')\n",
    "fig, ax  = plt.subplots(1,1,figsize=[6,5])\n",
    "im = ax.scatter(x = ID_dat['IdeologyScale_1'],\n",
    "                y = ID_dat['SDO_total'],\n",
    "            c = ID_dat['IdeologyScale_1'],\n",
    "               s = 100, cmap = RdBu_r_cmap, edgecolor = None,\n",
    "           alpha = .6)\n",
    "for sub in ID_dat['SubID'].unique():\n",
    "    sub_dat = ID_dat.query('SubID == @sub').copy()\n",
    "    ax.text(sub_dat['IdeologyScale_1'],\n",
    "            sub_dat['SDO_total'],\n",
    "         sub)\n",
    "fig.colorbar(im, label = 'Conservatism')\n",
    "ax.set_xlabel('Conservatism');\n",
    "ax.set_ylabel('Social dominance orientation');\n",
    "ax.set(title = 'SDO')"
   ]
  },
  {
   "cell_type": "code",
   "execution_count": null,
   "metadata": {},
   "outputs": [],
   "source": [
    "scipy.stats.pearsonr(ID_dat['IdeologyScale_1'], ID_dat['NFC_mean'])"
   ]
  },
  {
   "cell_type": "markdown",
   "metadata": {},
   "source": [
    "## PCA on political survey items"
   ]
  },
  {
   "cell_type": "markdown",
   "metadata": {},
   "source": [
    "Select data"
   ]
  },
  {
   "cell_type": "code",
   "execution_count": null,
   "metadata": {},
   "outputs": [],
   "source": [
    "base_names = ['SECS','SSVS','RWA','LWA','SDO']"
   ]
  },
  {
   "cell_type": "code",
   "execution_count": null,
   "metadata": {},
   "outputs": [],
   "source": [
    "poli_cols = []\n",
    "for base_name in base_names:\n",
    "    for match in re.finditer(base_name,colnames[:1000]):\n",
    "        poli_cols.append(colnames[match.span()[0]:match.span()[1]+3].strip(','))"
   ]
  },
  {
   "cell_type": "code",
   "execution_count": null,
   "metadata": {},
   "outputs": [],
   "source": [
    "print(len(poli_cols))"
   ]
  },
  {
   "cell_type": "code",
   "execution_count": null,
   "metadata": {},
   "outputs": [],
   "source": [
    "exclude = [] #[\"34\"]\n",
    "pca_subs = ID_dat.loc[~ID_dat['SubID'].isin(exclude),'SubID'].values\n",
    "pca_dat = ID_dat.loc[ID_dat['SubID'].isin(pca_subs),poli_cols].copy()\n",
    "# pca_dat = ID_dat[poli_cols].copy()\n",
    "pca_dat.shape"
   ]
  },
  {
   "cell_type": "markdown",
   "metadata": {},
   "source": [
    "z-score measures"
   ]
  },
  {
   "cell_type": "code",
   "execution_count": null,
   "metadata": {},
   "outputs": [],
   "source": [
    "pca_dat = scipy.stats.zscore(pca_dat, axis = 0)"
   ]
  },
  {
   "cell_type": "markdown",
   "metadata": {},
   "source": [
    "Run PCA"
   ]
  },
  {
   "cell_type": "code",
   "execution_count": null,
   "metadata": {},
   "outputs": [],
   "source": [
    "pca = PCA(n_components=10)\n",
    "poli_cols_reduced = pca.fit_transform(pca_dat)"
   ]
  },
  {
   "cell_type": "code",
   "execution_count": null,
   "metadata": {},
   "outputs": [],
   "source": [
    "pca.explained_variance_ratio_"
   ]
  },
  {
   "cell_type": "code",
   "execution_count": null,
   "metadata": {},
   "outputs": [],
   "source": [
    "plt.bar(x = np.arange(1,1+len(pca.explained_variance_ratio_)), height = 100*pca.explained_variance_ratio_)\n",
    "plt.xticks(np.arange(1,11));\n",
    "plt.title('PCA explained variance per component');\n",
    "plt.ylabel('%')\n",
    "plt.xlabel('Component');"
   ]
  },
  {
   "cell_type": "markdown",
   "metadata": {},
   "source": [
    "Plot first 2 components:"
   ]
  },
  {
   "cell_type": "code",
   "execution_count": null,
   "metadata": {},
   "outputs": [],
   "source": [
    "sns.set(context = 'notebook', style = 'whitegrid', font = 'arial')\n",
    "fig, ax  = plt.subplots(1,1,figsize=[6,5])\n",
    "im = ax.scatter(x = poli_cols_reduced[:,0], y = poli_cols_reduced[:,1],\n",
    "            c = ID_dat.loc[ID_dat['SubID'].isin(pca_subs),'IdeologyScale_1'],\n",
    "               s = 100, cmap = RdBu_r_cmap, edgecolor = None,\n",
    "           alpha = .6)\n",
    "for i in range(len(poli_cols_reduced)):\n",
    "    ax.text(poli_cols_reduced[i,0], poli_cols_reduced[i,1],\n",
    "         pca_subs[i])\n",
    "fig.colorbar(im, label = 'Conservatism')\n",
    "ax.set_xlabel('PC1 values');\n",
    "ax.set_ylabel('PC2 values');\n",
    "ax.set_title('First 2 principal components\\n%.1f%% of political survey variance explained'%(\n",
    "    np.sum(pca.explained_variance_ratio_[0:2])*100));\n",
    "plt.savefig(base_dir + '/Results/Individual_differences/Political_surveys_PCA.pdf',\n",
    "           bbox_inches='tight', transparent = True)"
   ]
  },
  {
   "cell_type": "markdown",
   "metadata": {},
   "source": [
    "So 34 is clearly an outlier."
   ]
  },
  {
   "cell_type": "markdown",
   "metadata": {},
   "source": [
    "Plot first component only against conservatism self-report:"
   ]
  },
  {
   "cell_type": "code",
   "execution_count": null,
   "metadata": {},
   "outputs": [],
   "source": [
    "sns.set(context = 'notebook', font = 'arial', style = 'whitegrid')\n",
    "fig, ax  = plt.subplots(1,1,figsize=[6,5])\n",
    "im = ax.scatter(x = ID_dat['IdeologyScale_1'], y = poli_cols_reduced[:,0],\n",
    "            c = ID_dat['IdeologyScale_1'],\n",
    "               s = 100, cmap = RdBu_r_cmap, edgecolor = None,\n",
    "           alpha = .6)\n",
    "for i in range(len(poli_cols_reduced)):\n",
    "    ax.text(ID_dat.loc[i,'IdeologyScale_1'], poli_cols_reduced[i,0],\n",
    "         ID_dat.loc[i,'SubID'])\n",
    "fig.colorbar(im, label = 'Conservatism')\n",
    "ax.set_xlabel('Conservatism');\n",
    "ax.set_ylabel('PC1 values');\n",
    "ax.set_title('First principal component\\n%.1f%% of political survey variance explained'%(\n",
    "    np.sum(pca.explained_variance_ratio_[0])*100));\n",
    "plt.savefig(base_dir + '/Results/Individual_differences/Political_surveys_PCA_PC1.pdf',\n",
    "           bbox_inches='tight', transparent = True)"
   ]
  },
  {
   "cell_type": "markdown",
   "metadata": {},
   "source": [
    "Plot spread of PC1 - looks like two means which is good:"
   ]
  },
  {
   "cell_type": "code",
   "execution_count": null,
   "metadata": {},
   "outputs": [],
   "source": [
    "sns.distplot(poli_cols_reduced[:,0], bins = 20)"
   ]
  },
  {
   "cell_type": "markdown",
   "metadata": {},
   "source": [
    "Plot PC loadings onto survey items:"
   ]
  },
  {
   "cell_type": "code",
   "execution_count": null,
   "metadata": {},
   "outputs": [],
   "source": [
    "survey_colors = sns.color_palette('tab10',len(base_names))"
   ]
  },
  {
   "cell_type": "code",
   "execution_count": null,
   "metadata": {},
   "outputs": [],
   "source": [
    "sns.set(context = 'notebook', style = 'whitegrid', font = 'arial')\n",
    "fig, ax = plt.subplots(ncols=1,nrows=3,figsize=[14,12])\n",
    "for pci in [0,1,2]:\n",
    "    label = 'PC%i'%(pci+1)\n",
    "    weights = pca.components_[pci]\n",
    "    start_x = 1\n",
    "    for surveyi,survey_name in enumerate(base_names):\n",
    "        item_indices = [i for i in range(len(poli_cols)) if survey_name in poli_cols[i]]\n",
    "        ax[pci].bar(x = start_x + np.arange(len(item_indices)),\n",
    "            height = pca.components_[pci][item_indices],\n",
    "            width = .75,  label = survey_name, color = survey_colors[surveyi])\n",
    "        start_x += len(item_indices)\n",
    "    ax[pci].set(xlim = [0,start_x + 7], title = label)\n",
    "    ax[pci].legend(loc = 'right');\n",
    "values_list = 'Power Achievement Hedonism Stimulation Self-direction Universalism Benevolence Tradition Conformism Security'.split(' ')\n",
    "SECS_length = len([i for i in range(len(poli_cols)) if 'SECS' in poli_cols[i]])\n",
    "plt.xticks(np.arange(SECS_length+1,SECS_length+12), values_list, rotation = 90);\n",
    "plt.savefig(base_dir + '/Results/Individual_differences/Political_surveys_PCA_loadings.pdf',\n",
    "           bbox_inches='tight', transparent = True)"
   ]
  },
  {
   "cell_type": "markdown",
   "metadata": {},
   "source": [
    "Comparing these loadings to the loadings of the SSVS only (scroll up a bit), it looks like PC1 is the 'conservatism' component which is also found in the SSVS data (see Lindeman & Verkasalo, 2005). PC2 corresponds highly to the 'self-trancendence' factor identified in the same paper. So overall just the SSVS may have done just as well at pulling out the main factors - or even just the responses on the prescreen."
   ]
  },
  {
   "cell_type": "markdown",
   "metadata": {},
   "source": [
    "##### Store components in ID_dat"
   ]
  },
  {
   "cell_type": "code",
   "execution_count": null,
   "metadata": {},
   "outputs": [],
   "source": [
    "ID_dat['PCA_comp1'] = poli_cols_reduced[:,0]\n",
    "ID_dat['PCA_comp2'] = poli_cols_reduced[:,1]\n",
    "ID_dat['PCA_comp3'] = poli_cols_reduced[:,2]"
   ]
  },
  {
   "cell_type": "code",
   "execution_count": null,
   "metadata": {},
   "outputs": [],
   "source": [
    "ID_dat.to_csv(data_dir +'/Cleaned/Surveys/ID_dat.csv')"
   ]
  },
  {
   "cell_type": "code",
   "execution_count": null,
   "metadata": {},
   "outputs": [],
   "source": [
    "[a for a in ID_dat.columns if 'IUS' in a]"
   ]
  },
  {
   "cell_type": "markdown",
   "metadata": {},
   "source": [
    "##### Relationship between ideology and PCA component 1"
   ]
  },
  {
   "cell_type": "code",
   "execution_count": null,
   "metadata": {},
   "outputs": [],
   "source": [
    "tmp = ID_dat.loc[(ID_dat['SubID'] != '34'),:]\n",
    "scipy.stats.pearsonr(tmp['IdeologyScale_1'],tmp['PCA_comp1'])"
   ]
  },
  {
   "cell_type": "code",
   "execution_count": null,
   "metadata": {},
   "outputs": [],
   "source": [
    "tmp.shape"
   ]
  },
  {
   "cell_type": "markdown",
   "metadata": {},
   "source": [
    "##### How much of an outlier is sub 34?"
   ]
  },
  {
   "cell_type": "code",
   "execution_count": null,
   "metadata": {
    "scrolled": false
   },
   "outputs": [],
   "source": [
    "tmp = ID_dat.loc[(ID_dat['IdeologyScale_1'] > 50),['SubID','PCA_comp1']]\n",
    "tmp['PCA_comp1'] = scipy.stats.zscore(tmp['PCA_comp1'])\n",
    "plt.hist(tmp['PCA_comp1']);\n",
    "plt.xlabel('PCA conservatism component (z-scored)')\n",
    "plt.show();\n",
    "tmp.sort_values(by='PCA_comp1').head()"
   ]
  },
  {
   "cell_type": "markdown",
   "metadata": {},
   "source": [
    "So again, subject 34 is clearly an outlier, as he is more than 3 standard deviations from the other 'conservatives' on the conservatism components of the PCA."
   ]
  },
  {
   "cell_type": "markdown",
   "metadata": {},
   "source": [
    "## Check: does IUS _multivariate_ similarity relate to ideology?"
   ]
  },
  {
   "cell_type": "code",
   "execution_count": null,
   "metadata": {},
   "outputs": [],
   "source": [
    "IUS_cols = [i for i in ID_dat.columns if 'IUS' in i][:-1]"
   ]
  },
  {
   "cell_type": "code",
   "execution_count": null,
   "metadata": {},
   "outputs": [],
   "source": [
    "RDMs = pd.DataFrame()\n",
    "k=0\n",
    "for sub1 in ID_dat['SubID'].unique():\n",
    "    print(sub1, end = ',')\n",
    "    for sub2 in ID_dat['SubID'].unique():\n",
    "        if sub1 != sub2:\n",
    "            sub1dat = ID_dat.query('SubID == @sub1').iloc[0,:]\n",
    "            sub2dat = ID_dat.query('SubID == @sub2').iloc[0,:]\n",
    "            to_append = pd.Series()\n",
    "            to_append['SubID1'] = sub1\n",
    "            to_append['SubID2'] = sub2\n",
    "            # Ideology\n",
    "            to_append['ideology_similarity'] = 100 - np.abs(sub1dat['IdeologyScale_1'] - sub2dat['IdeologyScale_1'])\n",
    "            # Response with nans ignored\n",
    "            dat1 = sub1dat[IUS_cols].values\n",
    "            dat2 = sub2dat[IUS_cols].values\n",
    "            nonan = np.where((~sub1dat[IUS_cols].isnull()) & (~sub2dat[IUS_cols].isnull()))[0]\n",
    "            to_append['IUS_sim_multivariate'] = scipy.stats.pearsonr(dat1[nonan],dat2[nonan])[0]\n",
    "            # Append\n",
    "            RDMs = RDMs.append(pd.DataFrame(to_append).T).reset_index(drop=True)"
   ]
  },
  {
   "cell_type": "code",
   "execution_count": null,
   "metadata": {},
   "outputs": [],
   "source": [
    "# Drop duplicate pairs\n",
    "RDMs['lowersub'] = np.min(RDMs[['SubID1','SubID2']],axis=1)\n",
    "RDMs['highersub'] = np.max(RDMs[['SubID1','SubID2']],axis=1)\n",
    "\n",
    "print(RDMs.shape)\n",
    "RDMs.drop_duplicates(subset = ['lowersub','highersub'], inplace = True)\n",
    "print(RDMs.shape)"
   ]
  },
  {
   "cell_type": "code",
   "execution_count": null,
   "metadata": {},
   "outputs": [],
   "source": [
    "RDMs = RDMs.query('SubID1 != \"34\"').query('SubID2 != \"34\"').copy()"
   ]
  },
  {
   "cell_type": "code",
   "execution_count": null,
   "metadata": {},
   "outputs": [],
   "source": [
    "plt.scatter(RDMs['ideology_similarity'],RDMs['IUS_sim_multivariate'])"
   ]
  },
  {
   "cell_type": "code",
   "execution_count": null,
   "metadata": {},
   "outputs": [],
   "source": [
    "corrdat = RDMs.dropna(subset = ['ideology_similarity','IUS_sim_multivariate'])\n",
    "print('DF = %i'%(len(corrdat)-2))\n",
    "scipy.stats.pearsonr(corrdat['ideology_similarity'],corrdat['IUS_sim_multivariate'])"
   ]
  },
  {
   "cell_type": "markdown",
   "metadata": {},
   "source": [
    "So ideology does not capture similarity in answering on the IUS survey."
   ]
  },
  {
   "cell_type": "markdown",
   "metadata": {},
   "source": [
    "## Does IUS correlate with NFC (need for closure)?"
   ]
  },
  {
   "cell_type": "code",
   "execution_count": null,
   "metadata": {},
   "outputs": [],
   "source": [
    "sns.set(context = 'talk', style = 'whitegrid', font = 'arial')\n",
    "tmp_dat = ID_dat.query('SubID != \"34\"').copy()\n",
    "print(tmp_dat.shape)\n",
    "plt.scatter(tmp_dat['IUS_sum'],tmp_dat['NFC_mean'])\n",
    "stats = scipy.stats.pearsonr(tmp_dat['IUS_sum'],tmp_dat['NFC_mean'])\n",
    "plt.show()\n",
    "print(stats)"
   ]
  },
  {
   "cell_type": "code",
   "execution_count": null,
   "metadata": {},
   "outputs": [],
   "source": [
    "sns.set(context = 'talk', style = 'whitegrid', font = 'arial')\n",
    "fig,ax = plt.subplots(1,1, figsize = [6,6])\n",
    "sns.regplot(data = tmp_dat, x = 'IUS_sum', y = 'NFC_mean', color = 'k', ax = ax,\n",
    "           scatter_kws = {'color':'none', 'lw':2, 'edgecolor':'k'},\n",
    "           line_kws = {'lw':2})\n",
    "ax.set(title = 'r(%i) = %.3f, p = %.4f'%(tmp_dat.shape[0]-2, stats[0], stats[1]),\n",
    "      xlabel = 'Intolerance of uncertainty (IUS)', ylabel = 'Need for closure (NFC)',\n",
    "#       xlim = [27-1,5*27+1], ylim = [1,6]\n",
    "      )"
   ]
  },
  {
   "cell_type": "markdown",
   "metadata": {},
   "source": [
    "## IUS, NFC, IRI"
   ]
  },
  {
   "cell_type": "code",
   "execution_count": null,
   "metadata": {},
   "outputs": [],
   "source": [
    "cols = ['IUS_sum','NFC_mean','IRI_total']\n",
    "sns.heatmap(ID_dat[cols].corr(), square = True,\n",
    "           xticklabels = cols, yticklabels = cols, vmin = -1, vmax = 1)"
   ]
  },
  {
   "cell_type": "code",
   "execution_count": null,
   "metadata": {},
   "outputs": [],
   "source": [
    "annot_dat = plot_dat.copy().replace({1:np.nan})\n",
    "annot_dat[annot_dat<0.45] = np.nan\n",
    "annot_dat"
   ]
  },
  {
   "cell_type": "code",
   "execution_count": null,
   "metadata": {},
   "outputs": [],
   "source": [
    "base_dir"
   ]
  },
  {
   "cell_type": "code",
   "execution_count": null,
   "metadata": {},
   "outputs": [],
   "source": [
    "cols = ['IUS_sum','NFC_mean','IRI_total','SDO_total']\n",
    "fancynames = ['IUS','NFC','IRI','SDO']\n",
    "sns.set(context = 'talk', style = 'whitegrid', font = 'arial')\n",
    "# fig,ax = plt.subplots(1,1, figsize = [6,6])\n",
    "tmp_dat = ID_dat.query('SubID != \"34\"').copy()\n",
    "tmp_dat = tmp_dat.rename(columns = dict(zip(cols,fancynames)))\n",
    "plot_dat = tmp_dat[fancynames].corr()\n",
    "annot_dat = plot_dat.copy()\n",
    "for i in range(annot_dat.shape[0]):\n",
    "    for j in range(annot_dat.shape[1]):\n",
    "        val = annot_dat.iloc[i,j]\n",
    "        pstr = '*' if (val < 0.55) & (val > 0.45) else ''\n",
    "        annot_dat.iloc[i,j] = '%.2f%s'%(annot_dat.iloc[i,j],pstr)\n",
    "# annot_dat[annot_dat<0.45] = 1\n",
    "# annot_dat[annot_dat<0.55] = '0.45*'\n",
    "# annot_dat = annot_dat.replace({1:''})\n",
    "# annot_dat[annot_dat>0.45] = '0.45*'\n",
    "sns.heatmap(plot_dat, annot = annot_dat, square = True, vmin = -1, vmax = 1, cmap = \"RdBu\", fmt = '',\n",
    "            linewidths = 1, linecolor='w', cbar_kws = {'label':'Pearson\\'s r'})\n",
    "plt.savefig(base_dir + '/Results/Individual_differences/ID_corrs.pdf',\n",
    "            bbox_inches='tight', transparent = True)\n",
    "\n",
    "for cola in cols:\n",
    "    for colb in cols:\n",
    "        if cola is not colb:\n",
    "            tmp_dat = ID_dat.query('SubID != \"34\"').copy()[[cola,colb]].dropna()\n",
    "            stats = scipy.stats.pearsonr(tmp_dat[cola],tmp_dat[colb])\n",
    "            sigmark = '*' if stats[1] < 0.05 else ''\n",
    "            print('%s and %s: r = %.3f, p = %.4f%s'%(cola,colb,stats[0],stats[1],sigmark))"
   ]
  },
  {
   "cell_type": "code",
   "execution_count": null,
   "metadata": {},
   "outputs": [],
   "source": [
    "sns.set(context = 'talk', style = 'whitegrid', font = 'arial')\n",
    "fig,ax = plt.subplots(1,1, figsize = [6,6])\n",
    "sns.regplot(data = tmp_dat, x = 'IUS_sum', y = 'IRI_total', color = 'k', ax = ax,\n",
    "           scatter_kws = {'color':'none', 'lw':2, 'edgecolor':'k'},\n",
    "           line_kws = {'lw':2})\n",
    "tmp_dat = ID_dat.query('SubID != \"34\"').copy()[['IUS_sum','IRI_total']].dropna()\n",
    "stats = scipy.stats.pearsonr(tmp_dat['IUS_sum'],tmp_dat['IRI_total'])\n",
    "ax.set(\n",
    "    title = 'r(%i) = %.3f, p = %.4f'%(tmp_dat.shape[0]-2, stats[0], stats[1]),\n",
    "      xlabel = 'Intolerance of uncertainty (IUS)', ylabel = 'Interpersonal Reactivity Index (IRI)',\n",
    "#       xlim = [27-1,5*27+1], ylim = [1,6]\n",
    "      )"
   ]
  },
  {
   "cell_type": "code",
   "execution_count": null,
   "metadata": {},
   "outputs": [],
   "source": []
  }
 ],
 "metadata": {
  "kernelspec": {
   "display_name": "Python 3",
   "language": "python",
   "name": "python3"
  },
  "language_info": {
   "codemirror_mode": {
    "name": "ipython",
    "version": 3
   },
   "file_extension": ".py",
   "mimetype": "text/x-python",
   "name": "python",
   "nbconvert_exporter": "python",
   "pygments_lexer": "ipython3",
   "version": "3.7.3"
  }
 },
 "nbformat": 4,
 "nbformat_minor": 2
}
