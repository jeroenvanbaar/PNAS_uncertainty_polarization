{
 "cells": [
  {
   "cell_type": "markdown",
   "metadata": {},
   "source": [
    "This script loads survey data, turns all responses into numerical type, computes subscale and total sums (taking reverse-coded items into account), and stores as ID_dat.csv."
   ]
  },
  {
   "cell_type": "code",
   "execution_count": null,
   "metadata": {},
   "outputs": [],
   "source": [
    "import os\n",
    "import numpy as np\n",
    "import pandas as pd\n",
    "import scipy as sp\n",
    "import scipy.spatial\n",
    "import scipy.stats\n",
    "import matplotlib.pyplot as plt\n",
    "import seaborn as sns\n",
    "import re"
   ]
  },
  {
   "cell_type": "markdown",
   "metadata": {},
   "source": [
    "## Load data"
   ]
  },
  {
   "cell_type": "code",
   "execution_count": null,
   "metadata": {},
   "outputs": [],
   "source": [
    "base_dir = os.path.realpath('../..')\n",
    "print(base_dir)\n",
    "data_dir = base_dir + '/Data'"
   ]
  },
  {
   "cell_type": "code",
   "execution_count": null,
   "metadata": {},
   "outputs": [],
   "source": [
    "ID_dat = pd.read_csv(data_dir + '/Raw/Surveys' +\n",
    "             '/DUMP_Political_Polarization_IDItems_October+30%2C+2019_18.15.csv',\n",
    "                    dtype = {'SubID':str},\n",
    "                    )\n",
    "ID_dat = ID_dat.iloc[2:,:] # Remove extra header rows"
   ]
  },
  {
   "cell_type": "code",
   "execution_count": null,
   "metadata": {},
   "outputs": [],
   "source": [
    "ID_dat.head()"
   ]
  },
  {
   "cell_type": "code",
   "execution_count": null,
   "metadata": {},
   "outputs": [],
   "source": [
    "ID_dat['SubID'].head()"
   ]
  },
  {
   "cell_type": "markdown",
   "metadata": {},
   "source": [
    "## Clean data"
   ]
  },
  {
   "cell_type": "markdown",
   "metadata": {},
   "source": [
    "##### Remove nans"
   ]
  },
  {
   "cell_type": "code",
   "execution_count": null,
   "metadata": {},
   "outputs": [],
   "source": [
    "ID_dat = ID_dat[pd.to_numeric(ID_dat['SubID'], errors = 'coerce').notnull()].reset_index(drop=True)"
   ]
  },
  {
   "cell_type": "code",
   "execution_count": null,
   "metadata": {},
   "outputs": [],
   "source": [
    "ID_dat['SubID'] = pd.to_numeric(ID_dat['SubID'])"
   ]
  },
  {
   "cell_type": "code",
   "execution_count": null,
   "metadata": {},
   "outputs": [],
   "source": [
    "ID_dat = ID_dat.query('SubID < 90')"
   ]
  },
  {
   "cell_type": "code",
   "execution_count": null,
   "metadata": {},
   "outputs": [],
   "source": [
    "exclusions = [1,3]\n",
    "ID_dat = ID_dat.loc[~ID_dat['SubID'].isin(exclusions),:].reset_index(drop=True)"
   ]
  },
  {
   "cell_type": "code",
   "execution_count": null,
   "metadata": {},
   "outputs": [],
   "source": [
    "ID_dat['SubID'].unique()"
   ]
  },
  {
   "cell_type": "code",
   "execution_count": null,
   "metadata": {},
   "outputs": [],
   "source": [
    "ID_dat['SubID'].head()"
   ]
  },
  {
   "cell_type": "markdown",
   "metadata": {},
   "source": [
    "##### Remove columns of no interest"
   ]
  },
  {
   "cell_type": "code",
   "execution_count": null,
   "metadata": {},
   "outputs": [],
   "source": [
    "ID_dat = ID_dat.iloc[:,17:].reset_index(drop=True)"
   ]
  },
  {
   "cell_type": "markdown",
   "metadata": {},
   "source": [
    "## Explore data"
   ]
  },
  {
   "cell_type": "code",
   "execution_count": null,
   "metadata": {},
   "outputs": [],
   "source": [
    "colnames = ','.join(ID_dat.columns)\n",
    "colnames"
   ]
  },
  {
   "cell_type": "markdown",
   "metadata": {},
   "source": [
    "## Add prescreen data"
   ]
  },
  {
   "cell_type": "code",
   "execution_count": null,
   "metadata": {},
   "outputs": [],
   "source": [
    "file_path = data_dir + '/Cleaned/Surveys/Prescreen_data.csv'\n",
    "prescreen_dat = pd.read_csv(file_path)\n",
    "prescreen_dat = prescreen_dat.iloc[2:,:]\n",
    "prescreen_dat['subNr'] = prescreen_dat['subNr'].astype(int)\n",
    "prescreen_dat['IdeologyScale_1'] = prescreen_dat['IdeologyScale_1'].astype(int)\n",
    "prescreen_dat['Age'] = prescreen_dat['Age'].astype(int)\n",
    "prescreen_dat = prescreen_dat.sort_values(by = 'subNr')\n",
    "prescreen_dat['activism_score'] = prescreen_dat['ActivismList'].apply(lambda x: len(x.replace(', ',' ').split(',')))\n",
    "prescreen_dat['school_num'] = prescreen_dat['SchoolCompleted'].apply(lambda x: int(x[:2]))\n",
    "poles = np.array(['L','C'])\n",
    "prescreen_dat['pole'] = poles[np.array(prescreen_dat['IdeologyScale_1'] > 50).astype(int)]\n",
    "prescreen_dat = prescreen_dat[['subNr','Age','Gender','Race','school_num',\n",
    "                               'IdeologyScale_1','pole','IdentityChoice','PartyChoice',\n",
    "                               'activism_score','ControlLife']]\n",
    "display(prescreen_dat.head())\n",
    "# prescreen_dat['pole'].value_counts()"
   ]
  },
  {
   "cell_type": "code",
   "execution_count": null,
   "metadata": {},
   "outputs": [],
   "source": [
    "ID_dat = ID_dat.merge(prescreen_dat, left_on = 'SubID', right_on = 'subNr')"
   ]
  },
  {
   "cell_type": "code",
   "execution_count": null,
   "metadata": {},
   "outputs": [],
   "source": [
    "ID_dat['pole'].value_counts()"
   ]
  },
  {
   "cell_type": "markdown",
   "metadata": {},
   "source": [
    "##### Visualize prescreen data"
   ]
  },
  {
   "cell_type": "code",
   "execution_count": null,
   "metadata": {},
   "outputs": [],
   "source": [
    "colors = ['b','r']\n",
    "cols = ['IdeologyScale_1','activism_score','Age','school_num']\n",
    "bins = [np.arange(0,101,5), np.arange(0.5,9.6,1), np.arange(0,90,5), np.arange(11.5,22.6,1)]\n",
    "fig, axes = plt.subplots(1,len(cols), figsize = [16,4])\n",
    "for ai,ax in enumerate(axes[0:len(cols)]):\n",
    "    col = cols[ai]\n",
    "    for pi,pole in enumerate(poles):\n",
    "        sns.distplot(prescreen_dat.query('pole == @pole')[col],\n",
    "                    kde = True, rug = True, bins = bins[ai],\n",
    "                    color = colors[pi], label = pole, ax = ax)\n",
    "    plt.legend()\n",
    "    ax.set(title = col)\n",
    "axes[0].set_title('Ideology\\n0 = liberal, 100 = conservative');\n",
    "axes[0].set(xlim = [-10,110]);\n",
    "axes[1].set(xlim = [0,10]);"
   ]
  },
  {
   "cell_type": "markdown",
   "metadata": {},
   "source": [
    "## Parse political value surveys"
   ]
  },
  {
   "cell_type": "markdown",
   "metadata": {},
   "source": [
    "##### SECS"
   ]
  },
  {
   "cell_type": "code",
   "execution_count": null,
   "metadata": {},
   "outputs": [],
   "source": [
    "survey_basename = 'SECS'\n",
    "survey_dtype = int"
   ]
  },
  {
   "cell_type": "markdown",
   "metadata": {},
   "source": [
    "Identify survey columns"
   ]
  },
  {
   "cell_type": "code",
   "execution_count": null,
   "metadata": {},
   "outputs": [],
   "source": [
    "survey_cols = []\n",
    "for match in re.finditer(survey_basename,colnames):\n",
    "    survey_cols.append(colnames[match.span()[0]:match.span()[1]+3].strip(','))\n",
    "[print(survey_cols[i], end = '\\t') for i in range(len(survey_cols))];"
   ]
  },
  {
   "cell_type": "markdown",
   "metadata": {},
   "source": [
    "Adjust dtype"
   ]
  },
  {
   "cell_type": "code",
   "execution_count": null,
   "metadata": {},
   "outputs": [],
   "source": [
    "survey_dat = ID_dat[survey_cols].copy()\n",
    "survey_dat = survey_dat.astype(survey_dtype)\n",
    "ID_dat[survey_cols] = survey_dat[survey_cols]"
   ]
  },
  {
   "cell_type": "markdown",
   "metadata": {},
   "source": [
    "Check missing data"
   ]
  },
  {
   "cell_type": "code",
   "execution_count": null,
   "metadata": {},
   "outputs": [],
   "source": [
    "survey_dat.isna().sum().sum()"
   ]
  },
  {
   "cell_type": "markdown",
   "metadata": {},
   "source": [
    "Compute subscales and total"
   ]
  },
  {
   "cell_type": "code",
   "execution_count": null,
   "metadata": {},
   "outputs": [],
   "source": [
    "social_col_indices = [0,2,3,6,7,10,11]\n",
    "economic_col_indices = [1,4,5,8,9]\n",
    "reverse = [0,4]\n",
    "survey_dat.iloc[:,reverse] = 100 - survey_dat.iloc[:,reverse]\n",
    "survey_dat['SECS_total'] = survey_dat.sum(axis=1)\n",
    "survey_dat['SECS_social'] = survey_dat.iloc[:,social_col_indices].sum(axis=1)\n",
    "survey_dat['SECS_economic'] = survey_dat.iloc[:,economic_col_indices].sum(axis=1)\n",
    "survey_dat['SubID'] = ID_dat['SubID']\n",
    "survey_dat.head()"
   ]
  },
  {
   "cell_type": "markdown",
   "metadata": {},
   "source": [
    "Add to ID_dat"
   ]
  },
  {
   "cell_type": "code",
   "execution_count": null,
   "metadata": {},
   "outputs": [],
   "source": [
    "ID_dat = ID_dat.merge(survey_dat[['SubID','SECS_total','SECS_social','SECS_economic']], on = 'SubID')"
   ]
  },
  {
   "cell_type": "markdown",
   "metadata": {},
   "source": [
    "##### RWA"
   ]
  },
  {
   "cell_type": "code",
   "execution_count": null,
   "metadata": {},
   "outputs": [],
   "source": [
    "survey_basename = 'RWA'"
   ]
  },
  {
   "cell_type": "markdown",
   "metadata": {},
   "source": [
    "Identify survey columns"
   ]
  },
  {
   "cell_type": "code",
   "execution_count": null,
   "metadata": {},
   "outputs": [],
   "source": [
    "survey_cols = []\n",
    "for match in re.finditer(survey_basename,colnames):\n",
    "    survey_cols.append(colnames[match.span()[0]:match.span()[1]+3].strip(','))\n",
    "[print(survey_cols[i], end = '\\t') for i in range(len(survey_cols))];"
   ]
  },
  {
   "cell_type": "code",
   "execution_count": null,
   "metadata": {},
   "outputs": [],
   "source": [
    "survey_dat = ID_dat[survey_cols].copy()"
   ]
  },
  {
   "cell_type": "markdown",
   "metadata": {},
   "source": [
    "Set dtype or map data"
   ]
  },
  {
   "cell_type": "code",
   "execution_count": null,
   "metadata": {},
   "outputs": [],
   "source": [
    "response_mapping = {'Very strongly disagree':1,\n",
    "                    'Strongly disagree':2,\n",
    "                    'Moderately disagree':3,\n",
    "                    'Slightly disagree':4,\n",
    "                    'Neutral':5,\n",
    "                    'Slightly agree':6,\n",
    "                    'Moderately agree':7,\n",
    "                    'Strongly agree':8,\n",
    "                    'Very strongly agree':9}\n",
    "survey_dat = survey_dat.applymap(lambda x: response_mapping[x])"
   ]
  },
  {
   "cell_type": "code",
   "execution_count": null,
   "metadata": {},
   "outputs": [],
   "source": [
    "ID_dat[survey_cols] = survey_dat[survey_cols]"
   ]
  },
  {
   "cell_type": "markdown",
   "metadata": {},
   "source": [
    "Check for missing data"
   ]
  },
  {
   "cell_type": "code",
   "execution_count": null,
   "metadata": {
    "scrolled": true
   },
   "outputs": [],
   "source": [
    "survey_dat.isna().sum().sum()"
   ]
  },
  {
   "cell_type": "markdown",
   "metadata": {},
   "source": [
    "Compute survey totals"
   ]
  },
  {
   "cell_type": "code",
   "execution_count": null,
   "metadata": {},
   "outputs": [],
   "source": [
    "reverse = [0,2,4,6,8,10]\n",
    "survey_dat.iloc[:,reverse] = 10 - survey_dat.iloc[:,reverse]"
   ]
  },
  {
   "cell_type": "code",
   "execution_count": null,
   "metadata": {
    "scrolled": false
   },
   "outputs": [],
   "source": [
    "subscale_items = {'RWA_Aggression':[1,4,7,10],\n",
    "                 'RWA_Submission':[2,5,8,11],\n",
    "                 'RWA_Conventionalism':[0,3,6,9]}\n",
    "survey_dat['RWA_total'] = survey_dat.sum(axis=1)\n",
    "for subscale, subscale_cols in subscale_items.items():\n",
    "    print(subscale, subscale_cols)\n",
    "    survey_dat[subscale] = survey_dat.iloc[:,subscale_cols].sum(axis=1)\n",
    "survey_dat['SubID'] = ID_dat['SubID']\n",
    "survey_dat.head()"
   ]
  },
  {
   "cell_type": "markdown",
   "metadata": {},
   "source": [
    "Add to ID_dat"
   ]
  },
  {
   "cell_type": "code",
   "execution_count": null,
   "metadata": {},
   "outputs": [],
   "source": [
    "ID_dat = ID_dat.merge(survey_dat[[\n",
    "    'SubID','RWA_total','RWA_Aggression',\n",
    "    'RWA_Submission','RWA_Conventionalism']], on = 'SubID')"
   ]
  },
  {
   "cell_type": "markdown",
   "metadata": {},
   "source": [
    "##### LWA"
   ]
  },
  {
   "cell_type": "code",
   "execution_count": null,
   "metadata": {},
   "outputs": [],
   "source": [
    "survey_basename = 'LWA'"
   ]
  },
  {
   "cell_type": "markdown",
   "metadata": {},
   "source": [
    "Identify survey columns"
   ]
  },
  {
   "cell_type": "code",
   "execution_count": null,
   "metadata": {},
   "outputs": [],
   "source": [
    "survey_cols = []\n",
    "for match in re.finditer(survey_basename,colnames):\n",
    "    survey_cols.append(colnames[match.span()[0]:match.span()[1]+3].strip(','))\n",
    "[print(survey_cols[i], end = '\\t') for i in range(len(survey_cols))];"
   ]
  },
  {
   "cell_type": "code",
   "execution_count": null,
   "metadata": {},
   "outputs": [],
   "source": [
    "survey_dat = ID_dat[survey_cols].copy()"
   ]
  },
  {
   "cell_type": "markdown",
   "metadata": {},
   "source": [
    "Set dtype or map data"
   ]
  },
  {
   "cell_type": "code",
   "execution_count": null,
   "metadata": {},
   "outputs": [],
   "source": [
    "response_mapping = {'I disagree completely':1,\n",
    "                    'I disagree somewhat':2,\n",
    "                    'I disagree slightly':3,\n",
    "                    'Neutral/undecided':4,\n",
    "                    'I slightly agree':5,\n",
    "                    'I somewhat agree':6,\n",
    "                    'I completely agree':7}\n",
    "survey_dat = survey_dat.applymap(lambda x: response_mapping[x])"
   ]
  },
  {
   "cell_type": "code",
   "execution_count": null,
   "metadata": {},
   "outputs": [],
   "source": [
    "ID_dat[survey_cols] = survey_dat[survey_cols].copy()"
   ]
  },
  {
   "cell_type": "markdown",
   "metadata": {},
   "source": [
    "Check for missing data"
   ]
  },
  {
   "cell_type": "code",
   "execution_count": null,
   "metadata": {
    "scrolled": true
   },
   "outputs": [],
   "source": [
    "survey_dat.isna().sum().sum()"
   ]
  },
  {
   "cell_type": "markdown",
   "metadata": {},
   "source": [
    "Compute survey totals"
   ]
  },
  {
   "cell_type": "markdown",
   "metadata": {},
   "source": [
    "Note: LWA_16 was not listed as reverse coded in the list of surveys for this study, but it clearly should be."
   ]
  },
  {
   "cell_type": "code",
   "execution_count": null,
   "metadata": {},
   "outputs": [],
   "source": [
    "reverse = [1,3,5,6,8,10,12,15,17,18]\n",
    "survey_dat.iloc[:,reverse] = 8 - survey_dat.iloc[:,reverse]"
   ]
  },
  {
   "cell_type": "code",
   "execution_count": null,
   "metadata": {
    "scrolled": false
   },
   "outputs": [],
   "source": [
    "survey_dat['LWA_total'] = survey_dat.sum(axis=1)\n",
    "survey_dat['SubID'] = ID_dat['SubID']\n",
    "survey_dat.head()"
   ]
  },
  {
   "cell_type": "markdown",
   "metadata": {},
   "source": [
    "Add to ID_dat"
   ]
  },
  {
   "cell_type": "code",
   "execution_count": null,
   "metadata": {},
   "outputs": [],
   "source": [
    "ID_dat = ID_dat.merge(survey_dat[[\n",
    "    'SubID','LWA_total']], on = 'SubID')"
   ]
  },
  {
   "cell_type": "markdown",
   "metadata": {},
   "source": [
    "##### S-SVS"
   ]
  },
  {
   "cell_type": "code",
   "execution_count": null,
   "metadata": {},
   "outputs": [],
   "source": [
    "survey_basename = 'SSVS'\n",
    "survey_dtype = int\n",
    "survey_cols = []\n",
    "for match in re.finditer(survey_basename,colnames):\n",
    "    survey_cols.append(colnames[match.span()[0]:match.span()[1]+3].strip(','))\n",
    "[print(survey_cols[i], end = '\\t') for i in range(len(survey_cols))];"
   ]
  },
  {
   "cell_type": "code",
   "execution_count": null,
   "metadata": {},
   "outputs": [],
   "source": [
    "ID_dat[survey_cols] = ID_dat[survey_cols].applymap(lambda x: int(x[0][0]))"
   ]
  },
  {
   "cell_type": "markdown",
   "metadata": {},
   "source": [
    "Mean-center per subject to find hierarchy of values (see Schwartz, 2012):"
   ]
  },
  {
   "cell_type": "code",
   "execution_count": null,
   "metadata": {},
   "outputs": [],
   "source": [
    "ID_dat[survey_cols] = (ID_dat[survey_cols].values \n",
    "                       - pd.DataFrame(np.tile(ID_dat[survey_cols].mean(axis=1),[10,1])).T)"
   ]
  },
  {
   "cell_type": "code",
   "execution_count": null,
   "metadata": {},
   "outputs": [],
   "source": [
    "ID_dat[survey_cols].head()"
   ]
  },
  {
   "cell_type": "markdown",
   "metadata": {},
   "source": [
    "Check for missing data"
   ]
  },
  {
   "cell_type": "code",
   "execution_count": null,
   "metadata": {
    "scrolled": true
   },
   "outputs": [],
   "source": [
    "ID_dat[survey_cols].isna().sum().sum()"
   ]
  },
  {
   "cell_type": "markdown",
   "metadata": {},
   "source": [
    "##### SDO-7(s)"
   ]
  },
  {
   "cell_type": "code",
   "execution_count": null,
   "metadata": {},
   "outputs": [],
   "source": [
    "survey_basename = 'SDO'\n",
    "survey_dtype = int\n",
    "survey_cols = []\n",
    "for match in re.finditer(survey_basename,colnames):\n",
    "    survey_cols.append(colnames[match.span()[0]:match.span()[1]+3].strip(','))\n",
    "[print(survey_cols[i], end = '\\t') for i in range(len(survey_cols))];"
   ]
  },
  {
   "cell_type": "code",
   "execution_count": null,
   "metadata": {},
   "outputs": [],
   "source": [
    "survey_dat = ID_dat[survey_cols].copy()"
   ]
  },
  {
   "cell_type": "markdown",
   "metadata": {},
   "source": [
    "Set dtype or map data"
   ]
  },
  {
   "cell_type": "code",
   "execution_count": null,
   "metadata": {},
   "outputs": [],
   "source": [
    "response_mapping = {'Strongly Oppose':1,\n",
    "                    'Somewhat Oppose':2,\n",
    "                    'Slightly Oppose':3,\n",
    "                    'Neutral':4,\n",
    "                    'Slightly Favor':5,\n",
    "                    'Somewhat Favor':6,\n",
    "                    'Strongly Favor':7}\n",
    "survey_dat = survey_dat.applymap(lambda x: response_mapping[x])"
   ]
  },
  {
   "cell_type": "code",
   "execution_count": null,
   "metadata": {},
   "outputs": [],
   "source": [
    "ID_dat[survey_cols] = survey_dat[survey_cols]"
   ]
  },
  {
   "cell_type": "markdown",
   "metadata": {},
   "source": [
    "Check for missing data"
   ]
  },
  {
   "cell_type": "code",
   "execution_count": null,
   "metadata": {
    "scrolled": false
   },
   "outputs": [],
   "source": [
    "survey_dat.isna().sum().sum()"
   ]
  },
  {
   "cell_type": "markdown",
   "metadata": {},
   "source": [
    "Compute survey totals"
   ]
  },
  {
   "cell_type": "code",
   "execution_count": null,
   "metadata": {},
   "outputs": [],
   "source": [
    "reverse = [2,3,6,7]\n",
    "survey_dat.iloc[:,reverse] = 8 - survey_dat.iloc[:,reverse]"
   ]
  },
  {
   "cell_type": "code",
   "execution_count": null,
   "metadata": {
    "scrolled": false
   },
   "outputs": [],
   "source": [
    "subscale_items = {'SDO_dominance':[0,1,2,3],\n",
    "                 'SDO_antiegalitarianism':[4,5,6,7]}\n",
    "survey_dat['SDO_total'] = survey_dat.sum(axis=1)\n",
    "for subscale, subscale_cols in subscale_items.items():\n",
    "    print(subscale, subscale_cols)\n",
    "    survey_dat[subscale] = survey_dat.iloc[:,subscale_cols].sum(axis=1)\n",
    "survey_dat['SubID'] = ID_dat['SubID']\n",
    "survey_dat.head()"
   ]
  },
  {
   "cell_type": "markdown",
   "metadata": {},
   "source": [
    "Add to ID_dat"
   ]
  },
  {
   "cell_type": "code",
   "execution_count": null,
   "metadata": {},
   "outputs": [],
   "source": [
    "ID_dat = ID_dat.merge(survey_dat[[\n",
    "    'SubID','SDO_total','SDO_dominance',\n",
    "    'SDO_antiegalitarianism']], on = 'SubID')"
   ]
  },
  {
   "cell_type": "markdown",
   "metadata": {},
   "source": [
    "## Parse cognitive surveys"
   ]
  },
  {
   "cell_type": "markdown",
   "metadata": {},
   "source": [
    "##### Need for closure (NFC) (short version)"
   ]
  },
  {
   "cell_type": "code",
   "execution_count": null,
   "metadata": {},
   "outputs": [],
   "source": [
    "survey_basename = 'NFC'\n",
    "survey_dtype = int\n",
    "survey_cols = []\n",
    "for match in re.finditer(survey_basename,colnames):\n",
    "    survey_cols.append(colnames[match.span()[0]:match.span()[1]+3].strip(','))\n",
    "[print(survey_cols[i], end = '\\t') for i in range(len(survey_cols))];"
   ]
  },
  {
   "cell_type": "code",
   "execution_count": null,
   "metadata": {},
   "outputs": [],
   "source": [
    "survey_dat = ID_dat[survey_cols].copy()"
   ]
  },
  {
   "cell_type": "code",
   "execution_count": null,
   "metadata": {},
   "outputs": [],
   "source": [
    "np.unique(survey_dat.values)"
   ]
  },
  {
   "cell_type": "code",
   "execution_count": null,
   "metadata": {},
   "outputs": [],
   "source": [
    "response_mapping = {'Completely Disagree':1,\n",
    "                    'Moderately Disagree':2,\n",
    "                    'Slightly Disagree':3,\n",
    "                    'Slightly Agree':4,\n",
    "                    'Moderately Agree':5,\n",
    "                    'Completely Agree':6}\n",
    "survey_dat = survey_dat.applymap(lambda x: response_mapping[x])"
   ]
  },
  {
   "cell_type": "markdown",
   "metadata": {},
   "source": [
    "Check for missing data"
   ]
  },
  {
   "cell_type": "code",
   "execution_count": null,
   "metadata": {
    "scrolled": true
   },
   "outputs": [],
   "source": [
    "print(survey_dat.shape)\n",
    "print(survey_dat.isna().sum().sum())"
   ]
  },
  {
   "cell_type": "markdown",
   "metadata": {},
   "source": [
    "Compute survey totals"
   ]
  },
  {
   "cell_type": "code",
   "execution_count": null,
   "metadata": {
    "scrolled": false
   },
   "outputs": [],
   "source": [
    "survey_dat['NFC_mean'] = survey_dat.mean(axis=1,skipna=True)\n",
    "survey_dat['SubID'] = ID_dat['SubID']\n",
    "survey_dat.head()"
   ]
  },
  {
   "cell_type": "code",
   "execution_count": null,
   "metadata": {},
   "outputs": [],
   "source": [
    "sns.distplot(survey_dat['NFC_mean'], rug=True)"
   ]
  },
  {
   "cell_type": "markdown",
   "metadata": {},
   "source": [
    "Add to ID_dat"
   ]
  },
  {
   "cell_type": "code",
   "execution_count": null,
   "metadata": {},
   "outputs": [],
   "source": [
    "ID_dat = ID_dat.merge(survey_dat[[\n",
    "    'SubID','NFC_mean']], on = 'SubID')"
   ]
  },
  {
   "cell_type": "code",
   "execution_count": null,
   "metadata": {},
   "outputs": [],
   "source": [
    "sns.scatterplot(data = ID_dat, x = 'IdeologyScale_1', y = 'NFC_mean')"
   ]
  },
  {
   "cell_type": "markdown",
   "metadata": {},
   "source": [
    "##### Intolerance of uncertainty (IUS)"
   ]
  },
  {
   "cell_type": "code",
   "execution_count": null,
   "metadata": {},
   "outputs": [],
   "source": [
    "survey_basename = 'IUS'\n",
    "survey_dtype = int\n",
    "survey_cols = []\n",
    "for match in re.finditer(survey_basename,colnames):\n",
    "    survey_cols.append(colnames[match.span()[0]:match.span()[1]+3].strip(','))\n",
    "[print(survey_cols[i], end = '\\t') for i in range(len(survey_cols))];"
   ]
  },
  {
   "cell_type": "code",
   "execution_count": null,
   "metadata": {},
   "outputs": [],
   "source": [
    "survey_dat = ID_dat[survey_cols].copy()"
   ]
  },
  {
   "cell_type": "code",
   "execution_count": null,
   "metadata": {},
   "outputs": [],
   "source": [
    "response_mapping = {'1 (Not at all characteristic of me)':1,\n",
    "                    '2':2,\n",
    "                    '3 (Somewhat characteristic of me)':3,\n",
    "                    '4':4,\n",
    "                    '5 (Entirely characteristic of me)':5,\n",
    "                    'Prefer Not to Respond':np.nan}\n",
    "survey_dat = survey_dat.applymap(lambda x: response_mapping[x])"
   ]
  },
  {
   "cell_type": "code",
   "execution_count": null,
   "metadata": {},
   "outputs": [],
   "source": [
    "ID_dat[survey_cols] = survey_dat[survey_cols]"
   ]
  },
  {
   "cell_type": "markdown",
   "metadata": {},
   "source": [
    "Check for missing data"
   ]
  },
  {
   "cell_type": "code",
   "execution_count": null,
   "metadata": {},
   "outputs": [],
   "source": [
    "survey_dat.isna().sum().sum()"
   ]
  },
  {
   "cell_type": "markdown",
   "metadata": {},
   "source": [
    "Compute survey totals"
   ]
  },
  {
   "cell_type": "code",
   "execution_count": null,
   "metadata": {
    "scrolled": false
   },
   "outputs": [],
   "source": [
    "survey_dat['IUS_mean'] = survey_dat.mean(axis=1,skipna=True)\n",
    "survey_dat['IUS_sum'] = survey_dat['IUS_mean'] * 27\n",
    "survey_dat['SubID'] = ID_dat['SubID']\n",
    "survey_dat.head()"
   ]
  },
  {
   "cell_type": "code",
   "execution_count": null,
   "metadata": {},
   "outputs": [],
   "source": [
    "sns.distplot(survey_dat['IUS_mean'], rug=True)"
   ]
  },
  {
   "cell_type": "markdown",
   "metadata": {},
   "source": [
    "Add to ID_dat"
   ]
  },
  {
   "cell_type": "code",
   "execution_count": null,
   "metadata": {},
   "outputs": [],
   "source": [
    "ID_dat = ID_dat.merge(survey_dat[[\n",
    "    'SubID','IUS_mean','IUS_sum']], on = 'SubID')"
   ]
  },
  {
   "cell_type": "code",
   "execution_count": null,
   "metadata": {},
   "outputs": [],
   "source": [
    "sns.scatterplot(data = ID_dat, x = 'IdeologyScale_1', y = 'IUS_sum')"
   ]
  },
  {
   "cell_type": "markdown",
   "metadata": {},
   "source": [
    "##### Correlate NFC and IUS"
   ]
  },
  {
   "cell_type": "code",
   "execution_count": null,
   "metadata": {},
   "outputs": [],
   "source": [
    "scipy.stats.pearsonr(ID_dat['NFC_mean'],ID_dat['IUS_mean'])"
   ]
  },
  {
   "cell_type": "code",
   "execution_count": null,
   "metadata": {},
   "outputs": [],
   "source": [
    "sns.scatterplot(data = ID_dat, x = 'NFC_mean', y = 'IUS_mean')"
   ]
  },
  {
   "cell_type": "markdown",
   "metadata": {},
   "source": [
    "## Interpersonal reactivity index"
   ]
  },
  {
   "cell_type": "code",
   "execution_count": null,
   "metadata": {},
   "outputs": [],
   "source": [
    "survey_basename = 'IRI'\n",
    "survey_dtype = int\n",
    "survey_cols = []\n",
    "for match in re.finditer(survey_basename,colnames):\n",
    "    survey_cols.append(colnames[match.span()[0]:match.span()[1]+3].strip(','))\n",
    "[print(survey_cols[i], end = '\\t') for i in range(len(survey_cols))];"
   ]
  },
  {
   "cell_type": "code",
   "execution_count": null,
   "metadata": {},
   "outputs": [],
   "source": [
    "survey_dat = ID_dat[survey_cols].copy()"
   ]
  },
  {
   "cell_type": "markdown",
   "metadata": {},
   "source": [
    "Set dtype or map data"
   ]
  },
  {
   "cell_type": "code",
   "execution_count": null,
   "metadata": {},
   "outputs": [],
   "source": [
    "response_mapping = {np.nan:np.nan,\n",
    "                    'Does not describe me at all':0,\n",
    "                    'Does not describe me':1,\n",
    "                    'Describes me somewhat':2,\n",
    "                    'Describes me well':3,\n",
    "                    'Describes me very well':4}\n",
    "survey_dat = survey_dat.applymap(lambda x: response_mapping[x])"
   ]
  },
  {
   "cell_type": "code",
   "execution_count": null,
   "metadata": {},
   "outputs": [],
   "source": [
    "ID_dat[survey_cols] = survey_dat[survey_cols]"
   ]
  },
  {
   "cell_type": "markdown",
   "metadata": {},
   "source": [
    "Check for missing data"
   ]
  },
  {
   "cell_type": "code",
   "execution_count": null,
   "metadata": {
    "scrolled": false
   },
   "outputs": [],
   "source": [
    "survey_dat.isna().sum().sum()"
   ]
  },
  {
   "cell_type": "markdown",
   "metadata": {},
   "source": [
    "Compute survey totals"
   ]
  },
  {
   "cell_type": "code",
   "execution_count": null,
   "metadata": {},
   "outputs": [],
   "source": [
    "reverse = [0,1,16,17,18,19] ## UPDATE!\n",
    "survey_dat.iloc[:,reverse] = 4 - survey_dat.iloc[:,reverse]"
   ]
  },
  {
   "cell_type": "code",
   "execution_count": null,
   "metadata": {
    "scrolled": false
   },
   "outputs": [],
   "source": [
    "# subscale_items = \n",
    "survey_dat['IRI_total'] = survey_dat.sum(axis=1, skipna=False)\n",
    "# for subscale, subscale_cols in subscale_items.items():\n",
    "#     print(subscale, subscale_cols)\n",
    "#     survey_dat[subscale] = survey_dat.iloc[:,subscale_cols].sum(axis=1)\n",
    "survey_dat['SubID'] = ID_dat['SubID']\n",
    "survey_dat.head()"
   ]
  },
  {
   "cell_type": "markdown",
   "metadata": {},
   "source": [
    "Add to ID_dat"
   ]
  },
  {
   "cell_type": "code",
   "execution_count": null,
   "metadata": {},
   "outputs": [],
   "source": [
    "ID_dat = ID_dat.merge(survey_dat[[\n",
    "    'SubID','IRI_total']], on = 'SubID')"
   ]
  },
  {
   "cell_type": "markdown",
   "metadata": {},
   "source": [
    "## Add labels for student participants"
   ]
  },
  {
   "cell_type": "code",
   "execution_count": null,
   "metadata": {},
   "outputs": [],
   "source": [
    "Brown_undergrad_dat = pd.read_csv(data_dir +'/Cleaned/Surveys/Brown_undergrad_data.csv')\n",
    "display(Brown_undergrad_dat.head())\n",
    "print(Brown_undergrad_dat.shape)"
   ]
  },
  {
   "cell_type": "code",
   "execution_count": null,
   "metadata": {},
   "outputs": [],
   "source": [
    "scan_day_dat = pd.read_csv(data_dir +'/Cleaned/Surveys/Scan_day_data.csv')\n",
    "display(scan_day_dat.head())\n",
    "print(scan_day_dat.shape)"
   ]
  },
  {
   "cell_type": "code",
   "execution_count": null,
   "metadata": {},
   "outputs": [],
   "source": [
    "len(Brown_undergrad_dat['SubID'].unique())"
   ]
  },
  {
   "cell_type": "code",
   "execution_count": null,
   "metadata": {},
   "outputs": [],
   "source": [
    "len(ID_dat['SubID'].unique())"
   ]
  },
  {
   "cell_type": "code",
   "execution_count": null,
   "metadata": {},
   "outputs": [],
   "source": [
    "print(ID_dat.shape)\n",
    "ID_dat = ID_dat.merge(Brown_undergrad_dat, on = 'SubID').merge(scan_day_dat, on = 'SubID')\n",
    "print(ID_dat.shape)"
   ]
  },
  {
   "cell_type": "markdown",
   "metadata": {},
   "source": [
    "## Save"
   ]
  },
  {
   "cell_type": "code",
   "execution_count": null,
   "metadata": {},
   "outputs": [],
   "source": [
    "ID_dat.to_csv(data_dir +'/Cleaned/Surveys/ID_dat.csv')"
   ]
  }
 ],
 "metadata": {
  "kernelspec": {
   "display_name": "Python 3",
   "language": "python",
   "name": "python3"
  },
  "language_info": {
   "codemirror_mode": {
    "name": "ipython",
    "version": 3
   },
   "file_extension": ".py",
   "mimetype": "text/x-python",
   "name": "python",
   "nbconvert_exporter": "python",
   "pygments_lexer": "ipython3",
   "version": "3.7.3"
  }
 },
 "nbformat": 4,
 "nbformat_minor": 2
}
