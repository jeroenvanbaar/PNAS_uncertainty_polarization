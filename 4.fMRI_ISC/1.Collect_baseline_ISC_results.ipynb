{
 "cells": [
  {
   "cell_type": "markdown",
   "metadata": {
    "ExecuteTime": {
     "end_time": "2020-09-29T11:48:17.212128Z",
     "start_time": "2020-09-29T11:48:14.422287Z"
    }
   },
   "source": [
    "This script computes the 'baseline' inter-subject correlations of neural activity during video watching.\n",
    "'Baseline' is meant in the sense of 'not associated with predictors such as ideology', simply shared activity across all subjects regardless of creed etc.\n",
    "This is the first step in many ISC papers."
   ]
  },
  {
   "cell_type": "markdown",
   "metadata": {},
   "source": [
    "This script requires processed data from the .py scripts in this folder. Use the .sh scripts to send the baseline_ISC_subject.py jobs to your cluster. Then use submit_baseline_ISC_group_permutation_jobs.sh to run the permutation tests. Then use this notebook to load results & apply FDR correction."
   ]
  },
  {
   "cell_type": "code",
   "execution_count": null,
   "metadata": {
    "ExecuteTime": {
     "end_time": "2020-09-29T11:48:17.212128Z",
     "start_time": "2020-09-29T11:48:14.422287Z"
    }
   },
   "outputs": [],
   "source": [
    "import numpy as np\n",
    "import pandas as pd\n",
    "import matplotlib.pyplot as plt\n",
    "import seaborn as sns\n",
    "import os, sys, nltools, scipy, glob\n",
    "from nltools import Brain_Data, Design_Matrix, expand_mask, collapse_mask\n",
    "from nltools.plotting import plot_brain, plot_glass_brain\n",
    "from nilearn.plotting import plot_stat_map, plot_img, plot_roi\n",
    "import nibabel as nib\n",
    "\n",
    "from helpers import load_cleaned_funx"
   ]
  },
  {
   "cell_type": "markdown",
   "metadata": {},
   "source": [
    "## Choose run"
   ]
  },
  {
   "cell_type": "code",
   "execution_count": null,
   "metadata": {
    "ExecuteTime": {
     "end_time": "2020-09-29T11:52:18.612937Z",
     "start_time": "2020-09-29T11:52:18.610348Z"
    }
   },
   "outputs": [],
   "source": [
    "run = 2 # == video number (1 = BBC Earth, 2 = PBS News, 3 = CNN Debate)"
   ]
  },
  {
   "cell_type": "markdown",
   "metadata": {},
   "source": [
    "## Settings"
   ]
  },
  {
   "cell_type": "code",
   "execution_count": null,
   "metadata": {
    "ExecuteTime": {
     "end_time": "2020-09-29T11:52:18.947926Z",
     "start_time": "2020-09-29T11:52:18.923385Z"
    }
   },
   "outputs": [],
   "source": [
    "# Settings\n",
    "base_dir = 'BASE_DIR_HERE/'\n",
    "mask_dir = 'MASK_DIR_HERE'\n",
    "mask_fname = (mask_dir + '/80pct_brain_mask.nii.gz') # This is a mask covering nearly all of the brain: where 80% or more of subjects had measurements (i.e. excluding part of cerebellum)\n",
    "all_subs = pd.read_csv(base_dir + 'Data/Subjects_and_exclusions/all_subjects.csv')['sub'].values.tolist()\n",
    "print(len(all_subs))\n",
    "\n",
    "# Exclusions\n",
    "exclude_motion = pd.read_csv(base_dir + '/Data/Subjects_and_exclusions/exclude_video-watching_motion.csv'\n",
    "                            ).query('run == @run')['sub'].values.tolist()\n",
    "exclude_attention = pd.read_csv(base_dir + '/Data/Subjects_and_exclusions/exclude_video-watching_attention.csv'\n",
    "                            ).query('run == @run')['sub'].values.tolist()\n",
    "exclude = exclude_motion + exclude_attention\n",
    "if run == 1:\n",
    "    last_TR = 390\n",
    "elif run == 2:\n",
    "    last_TR = 307\n",
    "elif run == 3:\n",
    "    last_TR = 720\n",
    "print('Exclusions: %s'%exclude)\n",
    "sub_list = [i for i in all_subs if i not in exclude]\n",
    "print('%i subjects remain: %s'%(len(sub_list),sub_list))"
   ]
  },
  {
   "cell_type": "markdown",
   "metadata": {},
   "source": [
    "## Load permutation test results per voxel, append, plot"
   ]
  },
  {
   "cell_type": "code",
   "execution_count": null,
   "metadata": {
    "ExecuteTime": {
     "end_time": "2020-09-29T11:52:19.572484Z",
     "start_time": "2020-09-29T11:52:19.243922Z"
    }
   },
   "outputs": [],
   "source": [
    "alldat = pd.DataFrame()\n",
    "for voxgr in range(73):\n",
    "    if np.mod(voxgr,10)==0:\n",
    "        print(voxgr, end = ',')\n",
    "    dat = pd.read_csv(base_dir + 'Results/Inter-subject_correlations/baseline_ISC/'+\n",
    "                                 'run-%i_r_permutation-test_voxgr-%i.csv'%(run,voxgr), index_col = 0)\n",
    "    alldat = alldat.append(dat)\n",
    "alldat = alldat.reset_index(drop=True)"
   ]
  },
  {
   "cell_type": "code",
   "execution_count": null,
   "metadata": {
    "ExecuteTime": {
     "end_time": "2020-09-29T11:52:19.577826Z",
     "start_time": "2020-09-29T11:52:19.574320Z"
    }
   },
   "outputs": [],
   "source": [
    "alldat.shape"
   ]
  },
  {
   "cell_type": "code",
   "execution_count": null,
   "metadata": {
    "ExecuteTime": {
     "end_time": "2020-09-29T11:52:19.761365Z",
     "start_time": "2020-09-29T11:52:19.593821Z"
    }
   },
   "outputs": [],
   "source": [
    "r_map = Brain_Data(mask_fname, mask = mask_fname)\n",
    "r_map.data = alldat['r'].values"
   ]
  },
  {
   "cell_type": "code",
   "execution_count": null,
   "metadata": {
    "ExecuteTime": {
     "end_time": "2020-09-29T11:52:21.424804Z",
     "start_time": "2020-09-29T11:52:19.963063Z"
    },
    "scrolled": true
   },
   "outputs": [],
   "source": [
    "plot_stat_map(r_map.to_nifti())"
   ]
  },
  {
   "cell_type": "code",
   "execution_count": null,
   "metadata": {
    "ExecuteTime": {
     "end_time": "2020-09-29T11:52:21.602980Z",
     "start_time": "2020-09-29T11:52:21.429516Z"
    }
   },
   "outputs": [],
   "source": [
    "p_map = Brain_Data(mask_fname, mask = mask_fname)\n",
    "p_map.data = alldat['p'].values"
   ]
  },
  {
   "cell_type": "code",
   "execution_count": null,
   "metadata": {
    "ExecuteTime": {
     "end_time": "2020-09-29T11:52:21.685012Z",
     "start_time": "2020-09-29T11:52:21.608163Z"
    }
   },
   "outputs": [],
   "source": [
    "r_map.write(base_dir + 'Results/Inter-subject_correlations/baseline_ISC/'+\n",
    "                                 'baseline_ISC_run-%i_r.nii.gz'%(run))\n",
    "p_map.write(base_dir + 'Results/Inter-subject_correlations/baseline_ISC/'+\n",
    "                                 'baseline_ISC_run-%i_p.nii.gz'%(run))"
   ]
  },
  {
   "cell_type": "markdown",
   "metadata": {},
   "source": [
    "##### Threshold using FDR"
   ]
  },
  {
   "cell_type": "code",
   "execution_count": null,
   "metadata": {
    "ExecuteTime": {
     "end_time": "2020-09-29T11:52:24.982742Z",
     "start_time": "2020-09-29T11:52:21.908305Z"
    }
   },
   "outputs": [],
   "source": [
    "ps = alldat['p'].values\n",
    "qs = [0.001, 0.05]\n",
    "for q in qs:\n",
    "    p_thresh_fdr = nltools.stats.fdr(ps, q = q)\n",
    "    print('q = %.4f, p_corr = %.6f'%(q,p_thresh_fdr))\n",
    "    p_thresh_arr = p_map.data <= p_thresh_fdr\n",
    "    r_map_thresh_fdr = r_map.copy()\n",
    "    r_map_thresh_fdr.data = np.multiply(r_map_thresh_fdr.data,p_thresh_arr)\n",
    "    plot_stat_map(r_map_thresh_fdr.to_nifti(), vmax = .6)\n",
    "    plt.show()\n",
    "    print('Writing...')\n",
    "    r_map_thresh_fdr.write(base_dir + 'Results/Inter-subject_correlations/baseline_ISC/'+\n",
    "                                      'baseline_ISC_run-%i_r_thresh-p-fdr-%.3f.nii.gz'%(run,q))"
   ]
  },
  {
   "cell_type": "code",
   "execution_count": null,
   "metadata": {},
   "outputs": [],
   "source": []
  },
  {
   "cell_type": "code",
   "execution_count": null,
   "metadata": {},
   "outputs": [],
   "source": []
  }
 ],
 "metadata": {
  "kernelspec": {
   "display_name": "Python 3",
   "language": "python",
   "name": "python3"
  },
  "language_info": {
   "codemirror_mode": {
    "name": "ipython",
    "version": 3
   },
   "file_extension": ".py",
   "mimetype": "text/x-python",
   "name": "python",
   "nbconvert_exporter": "python",
   "pygments_lexer": "ipython3",
   "version": "3.7.3"
  }
 },
 "nbformat": 4,
 "nbformat_minor": 2
}
