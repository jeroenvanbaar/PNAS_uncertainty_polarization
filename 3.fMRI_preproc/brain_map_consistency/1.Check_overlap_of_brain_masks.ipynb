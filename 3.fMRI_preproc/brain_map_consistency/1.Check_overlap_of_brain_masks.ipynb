{
 "cells": [
  {
   "cell_type": "markdown",
   "metadata": {},
   "source": [
    "Since signal dropout and field of view differs slightly across subjects, and since we're planning to analyze voxel data across subjects, we need to first determine the voxels where we have data from enough subjects to run those analyses. That's why here we will compute the number of participants for whom we have data, per voxel. We'll then use the 80% brain mask (i.e. voxels where 80% or more of participants have data) as the mask of interest for each fMRI analysis."
   ]
  },
  {
   "cell_type": "code",
   "execution_count": null,
   "metadata": {
    "ExecuteTime": {
     "end_time": "2020-09-16T10:50:42.410329Z",
     "start_time": "2020-09-16T10:50:37.197549Z"
    }
   },
   "outputs": [],
   "source": [
    "import sys, os, glob, nltools, scipy, nilearn\n",
    "import numpy as np\n",
    "import pandas as pd\n",
    "import matplotlib.pyplot as plt\n",
    "import seaborn as sns\n",
    "from nltools.data import Brain_Data\n",
    "from nltools.plotting import plot_brain\n",
    "from nilearn.plotting import plot_img, plot_stat_map, plot_roi"
   ]
  },
  {
   "cell_type": "markdown",
   "metadata": {},
   "source": [
    "## Load brain masks for video 3"
   ]
  },
  {
   "cell_type": "code",
   "execution_count": null,
   "metadata": {
    "ExecuteTime": {
     "end_time": "2020-09-16T10:50:42.420106Z",
     "start_time": "2020-09-16T10:50:42.416209Z"
    }
   },
   "outputs": [],
   "source": [
    "subs = [2,4,5,6,7,8,10,11,12,13,14,15,16,17,18,19,20,\n",
    "        21,22,23,24,28,30,31,32,33,35,36,37,38,43,44,45,46,47,48,49,50,51,52,53,54,55]"
   ]
  },
  {
   "cell_type": "code",
   "execution_count": null,
   "metadata": {
    "ExecuteTime": {
     "end_time": "2020-09-16T10:50:42.426370Z",
     "start_time": "2020-09-16T10:50:42.421971Z"
    }
   },
   "outputs": [],
   "source": [
    "data_dir = \"/gpfs_home/jvanbaar/data/jvanbaar/polarization/derivatives/fmriprep\""
   ]
  },
  {
   "cell_type": "code",
   "execution_count": null,
   "metadata": {
    "ExecuteTime": {
     "end_time": "2020-09-16T10:50:42.431301Z",
     "start_time": "2020-09-16T10:50:42.428156Z"
    }
   },
   "outputs": [],
   "source": [
    "run = 3"
   ]
  },
  {
   "cell_type": "code",
   "execution_count": null,
   "metadata": {
    "ExecuteTime": {
     "end_time": "2020-09-16T10:53:09.528084Z",
     "start_time": "2020-09-16T10:53:09.525499Z"
    }
   },
   "outputs": [],
   "source": [
    "import nibabel as nib"
   ]
  },
  {
   "cell_type": "code",
   "execution_count": null,
   "metadata": {
    "ExecuteTime": {
     "end_time": "2020-09-16T11:02:05.008183Z",
     "start_time": "2020-09-16T11:02:04.755640Z"
    }
   },
   "outputs": [],
   "source": [
    "sum_mask_arr = np.zeros([65,77,65])\n",
    "for si,sub in enumerate(subs):\n",
    "    fname = (data_dir + '/sub-%03d/ses-1/func/'%sub + \n",
    "             'sub-%03d_ses-1_task-videoWatching_run-%i'%(sub,run) +\n",
    "             '_space-MNI152NLin2009cAsym_desc-brain_mask.nii.gz')\n",
    "    mask_img = nib.load(fname)\n",
    "    mask_arr = mask_img.get_data()\n",
    "    sum_mask_arr += mask_arr"
   ]
  },
  {
   "cell_type": "code",
   "execution_count": null,
   "metadata": {
    "ExecuteTime": {
     "end_time": "2020-09-16T11:02:07.388407Z",
     "start_time": "2020-09-16T11:02:07.384782Z"
    }
   },
   "outputs": [],
   "source": [
    "sum_mask_img = nib.Nifti1Image(sum_mask_arr, mask_img.affine)"
   ]
  },
  {
   "cell_type": "code",
   "execution_count": null,
   "metadata": {
    "ExecuteTime": {
     "end_time": "2020-09-16T11:02:53.091985Z",
     "start_time": "2020-09-16T11:02:51.085004Z"
    }
   },
   "outputs": [],
   "source": [
    "plot_stat_map(sum_mask_img, display_mode = 'z', cut_coords = np.arange(-40,61,20), cmap = 'viridis')"
   ]
  },
  {
   "cell_type": "code",
   "execution_count": null,
   "metadata": {
    "ExecuteTime": {
     "end_time": "2020-09-16T11:02:19.135146Z",
     "start_time": "2020-09-16T11:02:19.110576Z"
    }
   },
   "outputs": [],
   "source": [
    "sum_mask_img.to_filename('Summed_brain_mask.nii.gz')"
   ]
  },
  {
   "cell_type": "markdown",
   "metadata": {},
   "source": [
    "## Create threshold masks"
   ]
  },
  {
   "cell_type": "code",
   "execution_count": null,
   "metadata": {
    "ExecuteTime": {
     "end_time": "2020-09-16T11:04:40.910589Z",
     "start_time": "2020-09-16T11:04:38.903479Z"
    }
   },
   "outputs": [],
   "source": [
    "# 100% mask\n",
    "thresh_mask_arr = np.copy(sum_mask_img.get_data())\n",
    "thresh_mask_arr[thresh_mask_arr < 43] = 0\n",
    "thresh_mask_arr[thresh_mask_arr > 0] = 1\n",
    "thresh_mask_img = nib.Nifti1Image(thresh_mask_arr, sum_mask_img.affine)\n",
    "plot_stat_map(thresh_mask_img, display_mode = 'z', cut_coords = np.arange(-40,61,20), cmap = 'viridis')\n",
    "thresh_mask_img.to_filename('Conjunction_brain_mask.nii.gz')"
   ]
  },
  {
   "cell_type": "code",
   "execution_count": null,
   "metadata": {
    "ExecuteTime": {
     "end_time": "2020-09-16T11:04:50.299885Z",
     "start_time": "2020-09-16T11:04:48.259775Z"
    }
   },
   "outputs": [],
   "source": [
    "# 80% mask\n",
    "thresh_mask_arr = np.copy(sum_mask_img.get_data())\n",
    "thresh_mask_arr[thresh_mask_arr < 0.8*43] = 0\n",
    "thresh_mask_arr[thresh_mask_arr > 0] = 1\n",
    "thresh_mask_img = nib.Nifti1Image(thresh_mask_arr, sum_mask_img.affine)\n",
    "plot_stat_map(thresh_mask_img, display_mode = 'z', cut_coords = np.arange(-40,61,20), cmap = 'viridis')\n",
    "thresh_mask_img.to_filename('80pct_brain_mask.nii.gz')"
   ]
  },
  {
   "cell_type": "code",
   "execution_count": null,
   "metadata": {
    "ExecuteTime": {
     "end_time": "2020-09-16T11:04:54.678503Z",
     "start_time": "2020-09-16T11:04:54.674350Z"
    }
   },
   "outputs": [],
   "source": [
    "np.sum(thresh_mask_arr)"
   ]
  },
  {
   "cell_type": "code",
   "execution_count": null,
   "metadata": {
    "ExecuteTime": {
     "end_time": "2020-09-16T11:05:02.661953Z",
     "start_time": "2020-09-16T11:05:02.658321Z"
    }
   },
   "outputs": [],
   "source": [
    "71355/1000"
   ]
  },
  {
   "cell_type": "code",
   "execution_count": null,
   "metadata": {},
   "outputs": [],
   "source": []
  }
 ],
 "metadata": {
  "kernelspec": {
   "display_name": "Python 3",
   "language": "python",
   "name": "python3"
  },
  "language_info": {
   "codemirror_mode": {
    "name": "ipython",
    "version": 3
   },
   "file_extension": ".py",
   "mimetype": "text/x-python",
   "name": "python",
   "nbconvert_exporter": "python",
   "pygments_lexer": "ipython3",
   "version": "3.7.3"
  }
 },
 "nbformat": 4,
 "nbformat_minor": 2
}
