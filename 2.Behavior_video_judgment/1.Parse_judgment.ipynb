{
 "cells": [
  {
   "cell_type": "markdown",
   "metadata": {},
   "source": [
    "This script loads and parses video judgment survey data."
   ]
  },
  {
   "cell_type": "code",
   "execution_count": null,
   "metadata": {},
   "outputs": [],
   "source": [
    "import os\n",
    "import numpy as np\n",
    "import pandas as pd\n",
    "import scipy as sp\n",
    "import scipy.spatial\n",
    "import scipy.stats\n",
    "import matplotlib.pyplot as plt\n",
    "import seaborn as sns\n",
    "import re"
   ]
  },
  {
   "cell_type": "markdown",
   "metadata": {},
   "source": [
    "## Load data"
   ]
  },
  {
   "cell_type": "code",
   "execution_count": null,
   "metadata": {},
   "outputs": [],
   "source": [
    "base_dir = os.path.realpath('../..')\n",
    "print(base_dir)\n",
    "data_dir = base_dir + '/data'"
   ]
  },
  {
   "cell_type": "code",
   "execution_count": null,
   "metadata": {},
   "outputs": [],
   "source": [
    "CJ_dat = pd.read_csv(data_dir + '/Raw/Surveys/' +\n",
    "     'DUMP_Political_Polarization_Comprehension-Judgment_October+30%2C+2019_18.15.csv',\n",
    "    dtype = {'SubID':str})\n",
    "CJ_dat = CJ_dat.iloc[2:,:] # Remove extra header rows"
   ]
  },
  {
   "cell_type": "code",
   "execution_count": null,
   "metadata": {},
   "outputs": [],
   "source": [
    "CJ_dat['SubID'].head()"
   ]
  },
  {
   "cell_type": "markdown",
   "metadata": {},
   "source": [
    "## Clean data"
   ]
  },
  {
   "cell_type": "markdown",
   "metadata": {},
   "source": [
    "##### Remove responses by video raters and empty lines"
   ]
  },
  {
   "cell_type": "code",
   "execution_count": null,
   "metadata": {},
   "outputs": [],
   "source": [
    "CJ_dat = CJ_dat[pd.to_numeric(CJ_dat['SubID'], errors = 'coerce').notnull()].reset_index(drop=True)"
   ]
  },
  {
   "cell_type": "code",
   "execution_count": null,
   "metadata": {},
   "outputs": [],
   "source": [
    "CJ_dat['SubID'] = pd.to_numeric(CJ_dat['SubID'])"
   ]
  },
  {
   "cell_type": "code",
   "execution_count": null,
   "metadata": {},
   "outputs": [],
   "source": [
    "CJ_dat = CJ_dat.query('SubID < 90')"
   ]
  },
  {
   "cell_type": "code",
   "execution_count": null,
   "metadata": {},
   "outputs": [],
   "source": [
    "exclusions = [1,3]\n",
    "CJ_dat = CJ_dat.loc[~CJ_dat['SubID'].isin(exclusions),:].reset_index(drop=True)"
   ]
  },
  {
   "cell_type": "code",
   "execution_count": null,
   "metadata": {},
   "outputs": [],
   "source": [
    "CJ_dat['SubID'].unique()"
   ]
  },
  {
   "cell_type": "code",
   "execution_count": null,
   "metadata": {},
   "outputs": [],
   "source": [
    "CJ_dat['SubID'].head()"
   ]
  },
  {
   "cell_type": "markdown",
   "metadata": {},
   "source": [
    "##### Remove columns of no interest, including comprehension"
   ]
  },
  {
   "cell_type": "code",
   "execution_count": null,
   "metadata": {},
   "outputs": [],
   "source": [
    "CJ_dat = CJ_dat.iloc[:,pd.np.r_[17,39:CJ_dat.shape[1]]].reset_index(drop=True).copy()"
   ]
  },
  {
   "cell_type": "code",
   "execution_count": null,
   "metadata": {},
   "outputs": [],
   "source": [
    "CJ_dat.head()"
   ]
  },
  {
   "cell_type": "markdown",
   "metadata": {},
   "source": [
    "## Explore data"
   ]
  },
  {
   "cell_type": "code",
   "execution_count": null,
   "metadata": {},
   "outputs": [],
   "source": [
    "colnames = ','.join(CJ_dat.columns)\n",
    "colnames"
   ]
  },
  {
   "cell_type": "markdown",
   "metadata": {},
   "source": [
    "##### Parse Likert scale agree/disagree items:"
   ]
  },
  {
   "cell_type": "code",
   "execution_count": null,
   "metadata": {},
   "outputs": [],
   "source": [
    "questions_Likert = 'StatementsAbortion_1,StatementsAbortion_2,StatementsAbortion_3,StatementsAbortion_4,StatementsPolice_1,StatementsPolice_2,StatementsImmigratio_1,StatementsImmigratio_2,StatementsFaith_1,StatementsFaith_2,StatementsOverall_1,StatementsOverall_2'.split(',')\n",
    "questions_Likert"
   ]
  },
  {
   "cell_type": "code",
   "execution_count": null,
   "metadata": {},
   "outputs": [],
   "source": [
    "Likert_mapping = {'Strongly disagree':1,\n",
    "                  'Disagree':2,\n",
    "                  'Somewhat disagree':3,\n",
    "                  'Neither agree nor disagree':4,\n",
    "                  'Somewhat agree':5,\n",
    "                  'Agree':6,\n",
    "                  'Strongly agree':7}"
   ]
  },
  {
   "cell_type": "code",
   "execution_count": null,
   "metadata": {},
   "outputs": [],
   "source": [
    "CJ_dat[questions_Likert] = CJ_dat[questions_Likert].replace(Likert_mapping)"
   ]
  },
  {
   "cell_type": "code",
   "execution_count": null,
   "metadata": {},
   "outputs": [],
   "source": [
    "CJ_dat[questions_Likert].head()"
   ]
  },
  {
   "cell_type": "markdown",
   "metadata": {},
   "source": [
    "##### Parse intention items"
   ]
  },
  {
   "cell_type": "code",
   "execution_count": null,
   "metadata": {},
   "outputs": [],
   "source": [
    "questions_intention = 'IntentionsPenceCop_1,IntentionsKaineMothe_1,IntentionsKaineGuns_1,IntentionsPenceCity_1'.split(',')\n",
    "questions_intention"
   ]
  },
  {
   "cell_type": "code",
   "execution_count": null,
   "metadata": {},
   "outputs": [],
   "source": [
    "CJ_dat[questions_intention] = CJ_dat[questions_intention].astype(int)"
   ]
  },
  {
   "cell_type": "code",
   "execution_count": null,
   "metadata": {},
   "outputs": [],
   "source": [
    "CJ_dat[['IntentionsPenceCop_1','IntentionsKaineMothe_1']] = (\n",
    "    - CJ_dat[['IntentionsPenceCop_1','IntentionsKaineMothe_1']])"
   ]
  },
  {
   "cell_type": "code",
   "execution_count": null,
   "metadata": {},
   "outputs": [],
   "source": [
    "CJ_dat[questions_intention].head()"
   ]
  },
  {
   "cell_type": "markdown",
   "metadata": {},
   "source": [
    "##### Parse affiliation questions"
   ]
  },
  {
   "cell_type": "code",
   "execution_count": null,
   "metadata": {},
   "outputs": [],
   "source": [
    "questions_affiliation = 'LikePoliticians_1,LikePoliticians_2,LikePoliticians_3,LikePoliticians_4'.split(',')\n",
    "questions_affiliation"
   ]
  },
  {
   "cell_type": "code",
   "execution_count": null,
   "metadata": {},
   "outputs": [],
   "source": [
    "CJ_dat[questions_affiliation] = CJ_dat[questions_affiliation].astype(int)"
   ]
  },
  {
   "cell_type": "code",
   "execution_count": null,
   "metadata": {},
   "outputs": [],
   "source": [
    "questions_rename = ['LikeKaine','LikePence','LikeTrump','LikeClinton']"
   ]
  },
  {
   "cell_type": "code",
   "execution_count": null,
   "metadata": {},
   "outputs": [],
   "source": [
    "rename_dict = dict(zip(questions_affiliation,\n",
    "                        questions_rename))"
   ]
  },
  {
   "cell_type": "code",
   "execution_count": null,
   "metadata": {},
   "outputs": [],
   "source": [
    "CJ_dat = CJ_dat.rename(\n",
    "    columns = rename_dict)"
   ]
  },
  {
   "cell_type": "code",
   "execution_count": null,
   "metadata": {},
   "outputs": [],
   "source": [
    "CJ_dat.columns"
   ]
  },
  {
   "cell_type": "code",
   "execution_count": null,
   "metadata": {},
   "outputs": [],
   "source": [
    "CJ_dat[questions_rename].head()"
   ]
  },
  {
   "cell_type": "markdown",
   "metadata": {},
   "source": [
    "##### Parse bias questions"
   ]
  },
  {
   "cell_type": "code",
   "execution_count": null,
   "metadata": {},
   "outputs": [],
   "source": [
    "questions_bias = 'DebateQuestionBias,DebateVideoBias'.split(',')\n",
    "questions_bias"
   ]
  },
  {
   "cell_type": "code",
   "execution_count": null,
   "metadata": {},
   "outputs": [],
   "source": [
    "bias_mapping = {'Strongly biased in favor of Tim Kaine':-3,\n",
    "                'Biased in favor of Tim Kaine':-2,\n",
    "                'Somewhat biased in favor of Tim Kaine':-1,\n",
    "                'Neutral':0,\n",
    "                'Somewhat biased in favor of Mike Pence':1,\n",
    "                'Biased in favor of Mike Pence':2,\n",
    "                'Strongly biased in favor of Mike Pence':3}"
   ]
  },
  {
   "cell_type": "code",
   "execution_count": null,
   "metadata": {},
   "outputs": [],
   "source": [
    "CJ_dat[questions_bias] = CJ_dat[questions_bias].replace(bias_mapping)"
   ]
  },
  {
   "cell_type": "code",
   "execution_count": null,
   "metadata": {},
   "outputs": [],
   "source": [
    "CJ_dat[questions_bias].head()"
   ]
  },
  {
   "cell_type": "markdown",
   "metadata": {},
   "source": [
    "##### Parse personal judgment of debate"
   ]
  },
  {
   "cell_type": "code",
   "execution_count": null,
   "metadata": {},
   "outputs": [],
   "source": [
    "question_agree = 'DebateAgreed'\n",
    "question_win = 'DebateWon'"
   ]
  },
  {
   "cell_type": "code",
   "execution_count": null,
   "metadata": {},
   "outputs": [],
   "source": [
    "agree_mapping = {'Agreed entirely with Tim Kaine':-3,\n",
    "                 'Agreed a lot more with Tim Kaine':-2,\n",
    "                 'Agreed somewhat more with Tim Kaine':-1,\n",
    "                 'Agreed with both about equally':0,\n",
    "                 'Agreed somewhat more with Mike Pence':1,\n",
    "                 'Agreed a lot more with Mike Pence':2,\n",
    "                 'Agreed entirely with Mike Pence':3}"
   ]
  },
  {
   "cell_type": "code",
   "execution_count": null,
   "metadata": {},
   "outputs": [],
   "source": [
    "CJ_dat[question_agree] = CJ_dat[question_agree].replace(agree_mapping)"
   ]
  },
  {
   "cell_type": "code",
   "execution_count": null,
   "metadata": {},
   "outputs": [],
   "source": [
    "win_mapping = {'Total win for Tim Kaine':-3,\n",
    "               'Large win for Tim Kaine':-2,\n",
    "               'Slight win for Tim Kaine':-1,\n",
    "               'It was a tie':0,\n",
    "               'Slight win for Mike Pence':1,\n",
    "               'Large win for Mike Pence':2,\n",
    "               'Total win for Mike Pence':3}"
   ]
  },
  {
   "cell_type": "code",
   "execution_count": null,
   "metadata": {},
   "outputs": [],
   "source": [
    "CJ_dat[question_win] = CJ_dat[question_win].replace(win_mapping)"
   ]
  },
  {
   "cell_type": "code",
   "execution_count": null,
   "metadata": {},
   "outputs": [],
   "source": [
    "CJ_dat[[question_agree,question_win]].head()"
   ]
  },
  {
   "cell_type": "markdown",
   "metadata": {},
   "source": [
    "##### Check out some free responses"
   ]
  },
  {
   "cell_type": "code",
   "execution_count": null,
   "metadata": {
    "scrolled": true
   },
   "outputs": [],
   "source": [
    "[print(CJ_dat.loc[i,'SubID'], CJ_dat['FreeResponse'].iloc[i]) for i in range(len(CJ_dat))];"
   ]
  },
  {
   "cell_type": "markdown",
   "metadata": {},
   "source": [
    "## Store"
   ]
  },
  {
   "cell_type": "code",
   "execution_count": null,
   "metadata": {},
   "outputs": [],
   "source": [
    "CJ_dat.to_csv(data_dir + '/Cleaned/Surveys/Judgment_dat.csv', index=True)"
   ]
  },
  {
   "cell_type": "code",
   "execution_count": null,
   "metadata": {},
   "outputs": [],
   "source": []
  }
 ],
 "metadata": {
  "kernelspec": {
   "display_name": "Python 3",
   "language": "python",
   "name": "python3"
  },
  "language_info": {
   "codemirror_mode": {
    "name": "ipython",
    "version": 3
   },
   "file_extension": ".py",
   "mimetype": "text/x-python",
   "name": "python",
   "nbconvert_exporter": "python",
   "pygments_lexer": "ipython3",
   "version": "3.7.3"
  }
 },
 "nbformat": 4,
 "nbformat_minor": 2
}
