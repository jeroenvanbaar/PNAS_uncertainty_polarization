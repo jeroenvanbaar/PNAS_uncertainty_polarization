{
 "cells": [
  {
   "cell_type": "code",
   "execution_count": null,
   "metadata": {},
   "outputs": [],
   "source": [
    "import os\n",
    "import numpy as np\n",
    "import pandas as pd\n",
    "import scipy as sp\n",
    "import scipy.spatial\n",
    "import scipy.stats\n",
    "import matplotlib.pyplot as plt\n",
    "import seaborn as sns\n",
    "import re"
   ]
  },
  {
   "cell_type": "markdown",
   "metadata": {},
   "source": [
    "## Directories"
   ]
  },
  {
   "cell_type": "code",
   "execution_count": null,
   "metadata": {},
   "outputs": [],
   "source": [
    "base_dir = os.path.realpath('../..')\n",
    "print(base_dir)\n",
    "data_dir = base_dir + '/data'"
   ]
  },
  {
   "cell_type": "markdown",
   "metadata": {},
   "source": [
    "## Subjects"
   ]
  },
  {
   "cell_type": "code",
   "execution_count": null,
   "metadata": {},
   "outputs": [],
   "source": [
    "all_subs = pd.read_csv(base_dir + '/Data/Subjects_and_exclusions/all_subjects.csv')['sub'].values.tolist()\n",
    "ID_dat = pd.read_csv(data_dir +'/Cleaned/Surveys/ID_dat.csv',index_col=0)\n",
    "\n",
    "subIDs = {}\n",
    "for vid in [2,3]:\n",
    "    exclude = pd.read_csv(base_dir + '/Data/Subjects_and_exclusions/exclude_video-watching_aggregate_run-%i.csv'%vid\n",
    "                         )['sub'].values.tolist()\n",
    "    subs_keep = [i for i in all_subs if i not in exclude]\n",
    "    tmp = ID_dat.loc[ID_dat['SubID'].isin(subs_keep),:].copy()\n",
    "    libs = tmp.query('IdeologyScale_1 < 50')['SubID'].unique()\n",
    "    cons = tmp.query('IdeologyScale_1 > 50')['SubID'].unique()\n",
    "    subIDs['vid_%i'%vid] = {}\n",
    "    subIDs['vid_%i'%vid]['libs'] = libs\n",
    "    subIDs['vid_%i'%vid]['cons'] = cons"
   ]
  },
  {
   "cell_type": "markdown",
   "metadata": {},
   "source": [
    "## Load data"
   ]
  },
  {
   "cell_type": "code",
   "execution_count": null,
   "metadata": {},
   "outputs": [],
   "source": [
    "judgment_dat = pd.read_csv(data_dir + '/Cleaned/Surveys/Judgment_dat.csv',\n",
    "                          index_col = 0)"
   ]
  },
  {
   "cell_type": "code",
   "execution_count": null,
   "metadata": {},
   "outputs": [],
   "source": [
    "len(judgment_dat['SubID'].unique())"
   ]
  },
  {
   "cell_type": "markdown",
   "metadata": {},
   "source": [
    "It's OK that we don't exclude subjects here, as we want to compute all possible pairwise judgment similarity scores. Subject exclusions differ per video. We will therefore exclude the relevant subjects at the analysis stage in R, and at each distinct plot below."
   ]
  },
  {
   "cell_type": "markdown",
   "metadata": {},
   "source": [
    "## Select data columns"
   ]
  },
  {
   "cell_type": "code",
   "execution_count": null,
   "metadata": {},
   "outputs": [],
   "source": [
    "[print(i, end=',') for i in judgment_dat.columns];"
   ]
  },
  {
   "cell_type": "code",
   "execution_count": null,
   "metadata": {},
   "outputs": [],
   "source": [
    "video_2_cols = 'StatementsAbortion_1,StatementsAbortion_2,StatementsAbortion_3,StatementsAbortion_4'.split(',')\n",
    "video_2_cols"
   ]
  },
  {
   "cell_type": "code",
   "execution_count": null,
   "metadata": {},
   "outputs": [],
   "source": [
    "video_3_cols = 'StatementsPolice_1,StatementsPolice_2,StatementsImmigratio_1,StatementsImmigratio_2,StatementsFaith_1,StatementsFaith_2,StatementsOverall_1,StatementsOverall_2,IntentionsPenceCop_1,IntentionsKaineMothe_1,IntentionsKaineGuns_1,IntentionsPenceCity_1,LikeKaine,LikePence,LikeTrump,LikeClinton,DebateQuestionBias,DebateAgreed,DebateWon'.split(',')\n",
    "video_3_cols"
   ]
  },
  {
   "cell_type": "markdown",
   "metadata": {},
   "source": [
    "## Plotting function"
   ]
  },
  {
   "cell_type": "code",
   "execution_count": null,
   "metadata": {},
   "outputs": [],
   "source": [
    "def plot_Likert_responses(judgment_dat, data_cols, question_labels,\n",
    "                          libs, cons,\n",
    "                          Likert_range = [1,7], Likert_label = 'Agreement',\n",
    "                          ncols = 3, palette = sns.color_palette('RdBu_r',9)):\n",
    "    \n",
    "    nrows = int(np.ceil(len(data_cols)/ncols))\n",
    "    fig,axes = plt.subplots(nrows = nrows, ncols = ncols,\n",
    "                        figsize = [ncols*4, nrows*4], sharey = False, sharex = False)\n",
    "\n",
    "    for ci,col in enumerate(data_cols):\n",
    "        ax = axes.ravel()[ci]\n",
    "        # Liberals\n",
    "        sns.distplot(judgment_dat.loc[judgment_dat['SubID'].isin(libs),col],\n",
    "            bins = np.arange(Likert_range[0],Likert_range[1]+2)-.5,\n",
    "                     color = palette[0], ax = ax,\n",
    "                    label = 'Liberals')\n",
    "        # Conservatives\n",
    "        sns.distplot(judgment_dat.loc[judgment_dat['SubID'].isin(cons),col],\n",
    "            bins = np.arange(Likert_range[0],Likert_range[1]+2)-.5,\n",
    "                     color = palette[-1], ax = ax,\n",
    "                    label = 'Conservatives')\n",
    "        ax.set(xticks = np.arange(Likert_range[0],Likert_range[1]+1),\n",
    "               xlim = [Likert_range[0]-1,Likert_range[1]+1], xlabel = Likert_label,\n",
    "            title = question_labels[ci], ylabel = 'Frequency',\n",
    "               ylim = [0,1], yticks = np.arange(0,1.01,.1),\n",
    "              )\n",
    "        ax.set_yticklabels(\n",
    "            ['0%', '10%', '20%', '30%', '40%', '50%', '60%', '70%', '80%', '90%', '100%'])\n",
    "        ax.legend()\n",
    "    plt.tight_layout()\n",
    "    \n",
    "    return fig"
   ]
  },
  {
   "cell_type": "code",
   "execution_count": null,
   "metadata": {},
   "outputs": [],
   "source": [
    "out_dir = base_dir + '/Results/Video_judgment'"
   ]
  },
  {
   "cell_type": "markdown",
   "metadata": {},
   "source": [
    "## Plot judgment results video 2"
   ]
  },
  {
   "cell_type": "code",
   "execution_count": null,
   "metadata": {},
   "outputs": [],
   "source": [
    "data_cols = video_2_cols\n",
    "libscons = subIDs['vid_2']\n",
    "\n",
    "question_labels = ['Northam legal infanticide',\n",
    "                   '3rd trimester exceptional',\n",
    "                   'Abortion for any reason',\n",
    "                   'Political correctness > truth']\n",
    "\n",
    "fig = plot_Likert_responses(judgment_dat, data_cols, question_labels, libscons['libs'], libscons['cons'])\n",
    "\n",
    "category_name = 'News_abortion_agreement'\n",
    "fig.savefig(out_dir + '/%s.pdf'%category_name, bbox_inches = 'tight', transparent = True)"
   ]
  },
  {
   "cell_type": "markdown",
   "metadata": {},
   "source": [
    "## Plot judgment results video 3"
   ]
  },
  {
   "cell_type": "code",
   "execution_count": null,
   "metadata": {},
   "outputs": [],
   "source": [
    "video_3_cols"
   ]
  },
  {
   "cell_type": "markdown",
   "metadata": {},
   "source": [
    "##### Agreement questions "
   ]
  },
  {
   "cell_type": "code",
   "execution_count": null,
   "metadata": {},
   "outputs": [],
   "source": [
    "data_cols = [video_3_cols[i] for i in [0,1,2,3,6,7]]\n",
    "libscons = subIDs['vid_3']\n",
    "\n",
    "data_cols\n",
    "\n",
    "question_labels = ['Kaine: OK to bring up issues',\n",
    "                   'Pence: Force for good',\n",
    "                   'Kaine: Trump plan = Deportation nation',\n",
    "                   'Pence: Clinton plan = Amnesty',\n",
    "                   'Kaine: Insult-driven campaign',\n",
    "                   'Pence: Small potatoes']\n",
    "\n",
    "fig = plot_Likert_responses(judgment_dat, data_cols, question_labels, libscons['libs'], libscons['cons'])\n",
    "\n",
    "category_name = 'Debate_agreement'\n",
    "fig.savefig(out_dir + '/%s.pdf'%category_name, bbox_inches = 'tight', transparent = True)"
   ]
  },
  {
   "cell_type": "markdown",
   "metadata": {},
   "source": [
    "##### Intentions questions"
   ]
  },
  {
   "cell_type": "code",
   "execution_count": null,
   "metadata": {},
   "outputs": [],
   "source": [
    "data_cols = [video_3_cols[i] for i in [8,9,10,11]]\n",
    "data_cols\n",
    "\n",
    "question_labels = ['Pence: Uncle cop',\n",
    "                   'Kaine: Wife & mother',\n",
    "                   'Kaine: Second amendment',\n",
    "                   'Pence: Inner cities']\n",
    "\n",
    "libscons = subIDs['vid_3']\n",
    "fig = plot_Likert_responses(judgment_dat, data_cols, question_labels,  libscons['libs'], libscons['cons'],\n",
    "                           Likert_range=[-5,5], Likert_label='Sincerity')\n",
    "\n",
    "category_name = 'Debate_sincerity'\n",
    "fig.savefig(out_dir + '/%s.pdf'%category_name, bbox_inches = 'tight', transparent = True)"
   ]
  },
  {
   "cell_type": "markdown",
   "metadata": {},
   "source": [
    "##### Liking politicians"
   ]
  },
  {
   "cell_type": "code",
   "execution_count": null,
   "metadata": {},
   "outputs": [],
   "source": [
    "data_cols = [video_3_cols[i] for i in [12,13,14,15]]\n",
    "data_cols\n",
    "\n",
    "question_labels = ['Tim Kaine',\n",
    "                   'Mike Pence',\n",
    "                   'Donald Trump',\n",
    "                   'Hillary Clinton']\n",
    "\n",
    "libscons = subIDs['vid_3']\n",
    "fig = plot_Likert_responses(judgment_dat, data_cols, question_labels, libscons['libs'], libscons['cons'],\n",
    "                           Likert_range=[-5,5], Likert_label='<- Dislike   ...      Like ->')\n",
    "\n",
    "category_name = 'Liking_politicians'\n",
    "fig.savefig(out_dir + '/%s.pdf'%category_name, bbox_inches = 'tight', transparent = True)"
   ]
  },
  {
   "cell_type": "markdown",
   "metadata": {},
   "source": [
    "##### Personal judgment of debate"
   ]
  },
  {
   "cell_type": "code",
   "execution_count": null,
   "metadata": {},
   "outputs": [],
   "source": [
    "data_cols = 'DebateQuestionBias,DebateAgreed,DebateWon'.split(',')\n",
    "data_cols\n",
    "\n",
    "question_labels = ['Debate question bias',\n",
    "                   'I agreed more with...',\n",
    "                   'The debate winner was...']\n",
    "\n",
    "libscons = subIDs['vid_3']\n",
    "fig = plot_Likert_responses(judgment_dat, data_cols, question_labels, libscons['libs'], libscons['cons'],\n",
    "                            Likert_range=[-3,3],\n",
    "                            Likert_label='<- Tim Kaine ... Mike Pence ->')\n",
    "category_name = 'Debate_overall_judgment'\n",
    "fig.savefig(out_dir + '/%s.pdf'%category_name, bbox_inches = 'tight', transparent = True)"
   ]
  },
  {
   "cell_type": "markdown",
   "metadata": {},
   "source": [
    "## Video bias"
   ]
  },
  {
   "cell_type": "code",
   "execution_count": null,
   "metadata": {},
   "outputs": [],
   "source": [
    "data_cols = 'DebateVideoBias'.split(',')\n",
    "data_cols\n",
    "\n",
    "question_labels = ['Video selection bias']\n",
    "\n",
    "tmplibs = np.intersect1d(subIDs['vid_2']['libs'], subIDs['vid_3']['libs'])\n",
    "tmpcons = np.intersect1d(subIDs['vid_2']['cons'], subIDs['vid_3']['cons'])\n",
    "fig = plot_Likert_responses(judgment_dat, data_cols, question_labels, libscons['libs'], libscons['cons'],\n",
    "                            Likert_range=[-3,3],\n",
    "                            Likert_label='<- Towards Kaine ... Towards Pence ->')\n",
    "\n",
    "category_name = 'Video_selection_bias'\n",
    "fig.savefig(out_dir + '/%s.pdf'%category_name, bbox_inches = 'tight', transparent = True)"
   ]
  },
  {
   "cell_type": "markdown",
   "metadata": {},
   "source": [
    "## Inter-subject cosine similarity on responses per category"
   ]
  },
  {
   "cell_type": "markdown",
   "metadata": {},
   "source": [
    "##### First recode agreement to be negative-to-positive"
   ]
  },
  {
   "cell_type": "code",
   "execution_count": null,
   "metadata": {},
   "outputs": [],
   "source": [
    "recode = ['StatementsAbortion_1', 'StatementsAbortion_2', 'StatementsAbortion_3', 'StatementsAbortion_4',\n",
    "          'StatementsPolice_1', 'StatementsPolice_2',\n",
    "          'StatementsImmigratio_1', 'StatementsImmigratio_2',\n",
    "          'StatementsOverall_1', 'StatementsOverall_2']\n",
    "for r in recode:\n",
    "    judgment_dat[r] = judgment_dat[r] - 4\n",
    "# judgment_dat[['StatementsPolice_1','StatementsPolice_2','StatementsImmigratio_1',\n",
    "#                            'StatementsImmigratio_2','StatementsOverall_1','StatementsOverall_2']] = (\n",
    "#     judgment_dat[['StatementsPolice_1','StatementsPolice_2','StatementsImmigratio_1',\n",
    "#                            'StatementsImmigratio_2','StatementsOverall_1','StatementsOverall_2']] - 4)"
   ]
  },
  {
   "cell_type": "code",
   "execution_count": null,
   "metadata": {},
   "outputs": [],
   "source": [
    "# Data cols for each category\n",
    "categories = {'agreement_v2':['StatementsAbortion_1', 'StatementsAbortion_2',\n",
    "                              'StatementsAbortion_3', 'StatementsAbortion_4'],\n",
    "              'agreement_v3':['StatementsPolice_1','StatementsPolice_2','StatementsImmigratio_1',\n",
    "                           'StatementsImmigratio_2','StatementsOverall_1','StatementsOverall_2'],\n",
    "              'intentions_v3':['IntentionsPenceCop_1','IntentionsKaineMothe_1',\n",
    "                            'IntentionsKaineGuns_1','IntentionsPenceCity_1'],\n",
    "              'likingpoliticians':['LikeKaine','LikePence','LikeTrump','LikeClinton'],\n",
    "              'debate_v3':['DebateQuestionBias','DebateAgreed','DebateWon']\n",
    "              }\n",
    "\n",
    "# Loop over categories\n",
    "all_data_cols = []\n",
    "all_judgment_ISC = pd.DataFrame()\n",
    "for ci,cat_name in enumerate(categories.keys()):\n",
    "    print(cat_name)\n",
    "    data_cols = categories[cat_name]\n",
    "    all_data_cols.extend(data_cols)\n",
    "    ISC = (pd.DataFrame(1 - scipy.spatial.distance.squareform(\n",
    "                        scipy.spatial.distance.pdist(judgment_dat[data_cols].values, metric = 'cosine')),\n",
    "                        columns = judgment_dat['SubID'], index = judgment_dat['SubID'])\n",
    "                        .reset_index().melt(id_vars = 'SubID', var_name = 'SubID2')\n",
    "                        .rename(columns = {'SubID':'SubID1','value':'%s_sim'%cat_name})\n",
    "                        .sort_values(by=['SubID1','SubID2']).reset_index(drop=True))\n",
    "    if ci == 0:\n",
    "        all_judgment_ISC = ISC.copy()\n",
    "    else:\n",
    "        all_judgment_ISC = all_judgment_ISC.merge(ISC, on = ['SubID1','SubID2'])\n",
    "\n",
    "# # Compute video 3 composite judgment similarity score\n",
    "vid3_data_cols = categories['agreement_v3'] + categories['intentions_v3'] + categories['debate_v3']\n",
    "vid3_composite_ISC = (pd.DataFrame(1 - scipy.spatial.distance.squareform(\n",
    "                        scipy.spatial.distance.pdist(judgment_dat[vid3_data_cols].values, metric = 'cosine')),\n",
    "                        columns = judgment_dat['SubID'], index = judgment_dat['SubID'])\n",
    "                        .reset_index().melt(id_vars = 'SubID', var_name = 'SubID2')\n",
    "                        .rename(columns = {'SubID':'SubID1','value':'vid3_composite_judgment_sim'})\n",
    "                        .sort_values(by=['SubID1','SubID2']).reset_index(drop=True))\n",
    "\n",
    "# Compute overall judgment similarity\n",
    "overall_ISC = (pd.DataFrame(1 - scipy.spatial.distance.squareform(\n",
    "                        scipy.spatial.distance.pdist(judgment_dat[all_data_cols].values, metric = 'cosine')),\n",
    "                        columns = judgment_dat['SubID'], index = judgment_dat['SubID'])\n",
    "                        .reset_index().melt(id_vars = 'SubID', var_name = 'SubID2')\n",
    "                        .rename(columns = {'SubID':'SubID1','value':'overall_judgment_sim'})\n",
    "                        .sort_values(by=['SubID1','SubID2']).reset_index(drop=True))\n",
    "all_judgment_ISC = all_judgment_ISC.merge(vid3_composite_ISC, on = ['SubID1','SubID2']).merge(overall_ISC, on = ['SubID1','SubID2'])\n",
    "all_judgment_ISC.head()"
   ]
  },
  {
   "cell_type": "code",
   "execution_count": null,
   "metadata": {},
   "outputs": [],
   "source": [
    "sns.distplot(all_judgment_ISC.agreement_v3_sim.values)"
   ]
  },
  {
   "cell_type": "code",
   "execution_count": null,
   "metadata": {},
   "outputs": [],
   "source": [
    "all_judgment_ISC.to_csv(out_dir + '/all_judgment_similarity.csv', index=False)"
   ]
  },
  {
   "cell_type": "code",
   "execution_count": null,
   "metadata": {},
   "outputs": [],
   "source": [
    "sns.pairplot(data = all_judgment_ISC.query('agreement_v3_sim != 0').iloc[:,2:], kind = 'reg',\n",
    "             plot_kws = {'scatter_kws':{'alpha':.1}})"
   ]
  },
  {
   "cell_type": "markdown",
   "metadata": {},
   "source": [
    "## Compare to ideology similarity"
   ]
  },
  {
   "cell_type": "code",
   "execution_count": null,
   "metadata": {},
   "outputs": [],
   "source": [
    "ideo_ISC = pd.DataFrame()\n",
    "for s1i,sub1 in enumerate(ID_dat['SubID']):\n",
    "    for s2i,sub2 in enumerate(ID_dat['SubID']):\n",
    "        ideo1 = ID_dat.query('SubID == @sub1')['IdeologyScale_1'].iloc[0]\n",
    "        ideo2 = ID_dat.query('SubID == @sub2')['IdeologyScale_1'].iloc[0]\n",
    "        ideosim = 100 - np.abs(ideo1 - ideo2)\n",
    "        ideo_ISC = ideo_ISC.append(pd.DataFrame([[sub1,sub2,ideosim]],\n",
    "                                                columns = ['SubID1','SubID2','ideology_sim'])).reset_index(drop=True)"
   ]
  },
  {
   "cell_type": "code",
   "execution_count": null,
   "metadata": {},
   "outputs": [],
   "source": [
    "plot_dat = all_judgment_ISC.merge(ideo_ISC, on = ['SubID1','SubID2'])\n",
    "plot_dat['same'] = plot_dat.apply((lambda x: x['SubID1'] == x['SubID2']),axis=1)# x['Sub1'] == x['Sub2']),)\n",
    "plot_dat = plot_dat.query('same == False')\n",
    "plot_dat.head()"
   ]
  },
  {
   "cell_type": "code",
   "execution_count": null,
   "metadata": {},
   "outputs": [],
   "source": [
    "sns.pairplot(data = plot_dat.iloc[:,2:-1], kind = 'reg',\n",
    "             plot_kws = {'scatter_kws':{'alpha':.1}})"
   ]
  },
  {
   "cell_type": "code",
   "execution_count": null,
   "metadata": {},
   "outputs": [],
   "source": []
  }
 ],
 "metadata": {
  "kernelspec": {
   "display_name": "Python 3",
   "language": "python",
   "name": "python3"
  },
  "language_info": {
   "codemirror_mode": {
    "name": "ipython",
    "version": 3
   },
   "file_extension": ".py",
   "mimetype": "text/x-python",
   "name": "python",
   "nbconvert_exporter": "python",
   "pygments_lexer": "ipython3",
   "version": "3.7.3"
  }
 },
 "nbformat": 4,
 "nbformat_minor": 2
}
