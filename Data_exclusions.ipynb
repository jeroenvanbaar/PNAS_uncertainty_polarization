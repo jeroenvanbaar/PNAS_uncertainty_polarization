{
 "cells": [
  {
   "cell_type": "code",
   "execution_count": null,
   "metadata": {},
   "outputs": [],
   "source": [
    "import numpy as np\n",
    "import pandas as pd\n",
    "import os, json"
   ]
  },
  {
   "cell_type": "code",
   "execution_count": null,
   "metadata": {},
   "outputs": [],
   "source": [
    "base_dir = os.path.realpath('..')\n",
    "out_dir = base_dir + '/Data/Subjects_and_exclusions/'"
   ]
  },
  {
   "cell_type": "markdown",
   "metadata": {},
   "source": [
    "#### All subjects"
   ]
  },
  {
   "cell_type": "code",
   "execution_count": null,
   "metadata": {},
   "outputs": [],
   "source": [
    "all_subs = [2,4,5,6,7,8,10,11,12,13,14,15,16,17,18,19,20,21,22,23,24,28,30,31,32,33,34,35,36,37,38,43,44,45,46,47,48,49,50,51,52,53,54,55]\n",
    "len(all_subs)\n",
    "out_fname = out_dir + 'all_subjects.csv'\n",
    "print(out_fname)\n",
    "tmp = pd.DataFrame(all_subs, columns = ['sub'])\n",
    "display(tmp.head())\n",
    "tmp.to_csv(out_fname)"
   ]
  },
  {
   "cell_type": "markdown",
   "metadata": {},
   "source": [
    "##### Exclude on ideology"
   ]
  },
  {
   "cell_type": "code",
   "execution_count": null,
   "metadata": {},
   "outputs": [],
   "source": [
    "exclude_ideology = [34]\n",
    "len(exclude_ideology)\n",
    "out_fname = out_dir + 'exclude_ideology.csv'\n",
    "print(out_fname)\n",
    "tmp = pd.DataFrame(exclude_ideology, columns = ['sub'])\n",
    "display(tmp.head())\n",
    "tmp.to_csv(out_fname)"
   ]
  },
  {
   "cell_type": "markdown",
   "metadata": {},
   "source": [
    "##### Exclude video watching motion"
   ]
  },
  {
   "cell_type": "code",
   "execution_count": null,
   "metadata": {},
   "outputs": [],
   "source": [
    "exclude_video_motion = {22:[3],47:[1]}\n",
    "tmp = pd.DataFrame(columns = ['sub','run'])\n",
    "for sub in exclude_video_motion.keys():\n",
    "    runs = exclude_video_motion[sub]\n",
    "    for run in runs:\n",
    "        tmp = tmp.append(pd.DataFrame([[sub,run]], columns = tmp.columns))\n",
    "tmp = tmp.reset_index(drop=True)\n",
    "out_fname = out_dir + 'exclude_video-watching_motion.csv'\n",
    "print(out_fname)\n",
    "display(tmp.head())\n",
    "tmp.to_csv(out_fname)"
   ]
  },
  {
   "cell_type": "markdown",
   "metadata": {},
   "source": [
    "##### Exclude video watching attention"
   ]
  },
  {
   "cell_type": "code",
   "execution_count": null,
   "metadata": {},
   "outputs": [],
   "source": [
    "exclude_video_attention = {49:[1]}\n",
    "tmp = pd.DataFrame(columns = ['sub','run'])\n",
    "for sub in exclude_video_attention.keys():\n",
    "    runs = exclude_video_attention[sub]\n",
    "    for run in runs:\n",
    "        tmp = tmp.append(pd.DataFrame([[sub,run]], columns = tmp.columns))\n",
    "tmp = tmp.reset_index(drop=True)\n",
    "out_fname = out_dir + 'exclude_video-watching_attention.csv'\n",
    "print(out_fname)\n",
    "display(tmp.head())\n",
    "tmp.to_csv(out_fname)"
   ]
  },
  {
   "cell_type": "markdown",
   "metadata": {},
   "source": [
    "##### Aggregate for video data"
   ]
  },
  {
   "cell_type": "code",
   "execution_count": null,
   "metadata": {},
   "outputs": [],
   "source": [
    "ideo_excl = pd.read_csv(out_dir + 'exclude_ideology.csv',index_col=0)['sub'].values.tolist()\n",
    "motion_excl = pd.read_csv(out_dir + 'exclude_video-watching_motion.csv',index_col=0)\n",
    "attention_excl = pd.read_csv(out_dir + 'exclude_video-watching_attention.csv',index_col=0)\n",
    "\n",
    "for vid in [1,2,3]:\n",
    "    exclude = ideo_excl.copy()\n",
    "    exclude.extend(motion_excl.query('run == @vid')['sub'].values.tolist())\n",
    "    exclude.extend(attention_excl.query('run == @vid')['sub'].values.tolist())\n",
    "    print(vid, exclude)\n",
    "    tmp = pd.DataFrame(sorted(exclude), columns = ['sub'])\n",
    "    fname = out_dir + 'exclude_video-watching_aggregate_run-%i.csv'%vid\n",
    "    display(tmp)\n",
    "    tmp.to_csv(fname)"
   ]
  }
 ],
 "metadata": {
  "kernelspec": {
   "display_name": "Python 3",
   "language": "python",
   "name": "python3"
  },
  "language_info": {
   "codemirror_mode": {
    "name": "ipython",
    "version": 3
   },
   "file_extension": ".py",
   "mimetype": "text/x-python",
   "name": "python",
   "nbconvert_exporter": "python",
   "pygments_lexer": "ipython3",
   "version": "3.7.3"
  }
 },
 "nbformat": 4,
 "nbformat_minor": 2
}
