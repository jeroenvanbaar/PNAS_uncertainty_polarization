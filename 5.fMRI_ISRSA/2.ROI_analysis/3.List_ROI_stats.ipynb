{
 "cells": [
  {
   "cell_type": "code",
   "execution_count": null,
   "metadata": {
    "ExecuteTime": {
     "end_time": "2020-09-04T08:17:16.974139Z",
     "start_time": "2020-09-04T08:16:49.026133Z"
    }
   },
   "outputs": [],
   "source": [
    "%matplotlib inline\n",
    "import os, sys, glob, scipy\n",
    "import numpy as np\n",
    "import pandas as pd\n",
    "import matplotlib.pyplot as plt\n",
    "import seaborn as sns\n",
    "import nilearn, nibabel, nltools, nistats # , neurosynth\n",
    "from nltools.data import Brain_Data\n",
    "from nistats.reporting import get_clusters_table\n",
    "from nilearn.plotting import plot_stat_map, plot_roi, plot_img, plot_glass_brain\n",
    "from nilearn.input_data import NiftiMasker\n",
    "import nibabel as nib"
   ]
  },
  {
   "cell_type": "code",
   "execution_count": null,
   "metadata": {
    "ExecuteTime": {
     "end_time": "2020-09-04T08:17:16.979404Z",
     "start_time": "2020-09-04T08:17:16.975917Z"
    }
   },
   "outputs": [],
   "source": [
    "base_dir = os.path.realpath('../../..')\n",
    "print(base_dir)"
   ]
  },
  {
   "cell_type": "markdown",
   "metadata": {},
   "source": [
    "## Function definitions"
   ]
  },
  {
   "cell_type": "code",
   "execution_count": null,
   "metadata": {
    "ExecuteTime": {
     "end_time": "2020-09-04T08:17:16.985554Z",
     "start_time": "2020-09-04T08:17:16.980997Z"
    }
   },
   "outputs": [],
   "source": [
    "def get_clusters(image, threshold = 0, extent_threshold = 0, sort_by_size = False, include_peaks_only = True):\n",
    "    clusters = get_clusters_table(image, threshold, cluster_threshold = extent_threshold)\n",
    "    clusters = clusters.rename(columns = {'Cluster ID':'ID', 'Cluster Size (mm3)':'size',\n",
    "                                          'Peak Stat':'peak_value'})\n",
    "    if include_peaks_only:\n",
    "        peaks = clusters.copy()\n",
    "        peaks = peaks.loc[peaks['ID'].apply(lambda x: not str(x)[-1].isalpha()),:].reset_index(drop=True)\n",
    "#         peaks = peaks.sort_values(by = 'size', ascending = False).reset_index(drop=True)\n",
    "    if sort_by_size:\n",
    "        clusters = clusters.sort_values(by = 'size', ascending = False).reset_index(drop=True)\n",
    "    return clusters, peaks"
   ]
  },
  {
   "cell_type": "code",
   "execution_count": null,
   "metadata": {
    "ExecuteTime": {
     "end_time": "2020-09-04T08:17:16.991445Z",
     "start_time": "2020-09-04T08:17:16.987030Z"
    }
   },
   "outputs": [],
   "source": [
    "def xyz_to_ijk(MNI, image):\n",
    "    return list(np.linalg.inv(image.affine[:3,:3]).dot(MNI-image.affine[:3,3]).astype(int))"
   ]
  },
  {
   "cell_type": "code",
   "execution_count": null,
   "metadata": {
    "ExecuteTime": {
     "end_time": "2020-09-04T08:17:16.999492Z",
     "start_time": "2020-09-04T08:17:16.992774Z"
    }
   },
   "outputs": [],
   "source": [
    "def expand_cluster(image, cluster_peak_MNI):\n",
    "    \n",
    "    # Find IJK of peak\n",
    "    i,j,k = xyz_to_ijk(cluster_peak_MNI,image)\n",
    "    cluster_peak_IJK = [i,j,k]\n",
    "    print('MNI: %s, IJK: %s'%(cluster_peak_MNI, cluster_peak_IJK))\n",
    "    \n",
    "    # Double check that peak value is correct\n",
    "    peakval = image.get_data()[i][j][k]\n",
    "    print('Peak value extracted from image data array: %f'%peakval)\n",
    "    \n",
    "    # Binarize image\n",
    "    binarized = (image.get_data() != 0).astype(int)\n",
    "        \n",
    "    # Label each cluster with a different number, reserve 0 for empty voxels\n",
    "    conn_mat = np.zeros((3, 3, 3), int)  # 6-connectivity, aka NN1 or \"faces\"\n",
    "    conn_mat[1, 1, :] = 1\n",
    "    conn_mat[1, :, 1] = 1\n",
    "    conn_mat[:, 1, 1] = 1\n",
    "    label_map = scipy.ndimage.measurements.label(binarized, conn_mat)[0]\n",
    "    clust_image = nibabel.Nifti1Image(label_map, affine=image.affine)\n",
    "    \n",
    "    # Find voxels with same label as cluster peak\n",
    "    cluster_label = clust_image.get_data()[i,j,k]\n",
    "    cluster_ROI = (clust_image.get_data() == cluster_label).astype(int)\n",
    "    ROI_mask = nibabel.Nifti1Image(cluster_ROI, affine = image.affine)\n",
    "    print('Cluster ROI located')\n",
    "    print('Cluster size as extracted from image data array: %i voxels = %i mm^3'%(\n",
    "        sum(cluster_ROI.flatten()),sum(cluster_ROI.flatten())*8))\n",
    "    \n",
    "    return cluster_peak_IJK, cluster_ROI, ROI_mask"
   ]
  },
  {
   "cell_type": "markdown",
   "metadata": {},
   "source": [
    "## Select effect of interest"
   ]
  },
  {
   "cell_type": "code",
   "execution_count": null,
   "metadata": {
    "ExecuteTime": {
     "end_time": "2020-09-04T08:17:17.006796Z",
     "start_time": "2020-09-04T08:17:17.003562Z"
    }
   },
   "outputs": [],
   "source": [
    "run = 3\n",
    "filter_TR = False\n",
    "TR_start = 1\n",
    "TR_end = 711\n",
    "use_anova_out = False\n",
    "model = 'ideology_IUS'\n",
    "term = 'scale(ideology_similarity)-X-joint_IUS'\n",
    "statistic = 'beta' if use_anova_out == False else 'F'\n",
    "threshold = 'thr-pval-fdr-0.05'"
   ]
  },
  {
   "cell_type": "code",
   "execution_count": null,
   "metadata": {},
   "outputs": [],
   "source": [
    "suffix = '_with_anova' if use_anova_out else ''\n",
    "results_dir = base_dir + '/Results/voxelwise_ISC/nifti' + suffix\n",
    "run_model_dir = ('run-%i_TRs-%i-%i_model-%s'%(run,TR_start,TR_end,model) \n",
    "                     if filter_TR else 'run-%i_model-%s'%(run,model))\n",
    "fpath = glob.glob('%s/%s/*%s*%s*.nii.gz'%(results_dir, run_model_dir, term, threshold))[0]"
   ]
  },
  {
   "cell_type": "code",
   "execution_count": null,
   "metadata": {},
   "outputs": [],
   "source": [
    "stat_path = glob.glob('%s/%s/*%s*%s.nii.gz'%(results_dir, run_model_dir, term, statistic))[0]\n",
    "stat_path"
   ]
  },
  {
   "cell_type": "code",
   "execution_count": null,
   "metadata": {
    "ExecuteTime": {
     "end_time": "2020-09-04T08:17:17.006796Z",
     "start_time": "2020-09-04T08:17:17.003562Z"
    }
   },
   "outputs": [],
   "source": [
    "p_path = beta_path = glob.glob('%s/%s/*%s*%s.nii.gz'%(results_dir, run_model_dir, term, 'pval'))[0]\n",
    "p_path"
   ]
  },
  {
   "cell_type": "code",
   "execution_count": null,
   "metadata": {},
   "outputs": [],
   "source": [
    "stat_thresh_path = glob.glob('%s/%s/*%s*%s%s.nii.gz'%(results_dir, run_model_dir, term, statistic, '-thr-pval-fdr-0.05'))[0]\n",
    "stat_thresh_path"
   ]
  },
  {
   "cell_type": "code",
   "execution_count": null,
   "metadata": {
    "ExecuteTime": {
     "end_time": "2020-09-04T08:17:17.031325Z",
     "start_time": "2020-09-04T08:17:17.008596Z"
    }
   },
   "outputs": [],
   "source": [
    "stat_map, p_map, stat_thresh_map = [nib.load(path) for path in [stat_path, p_path, stat_thresh_path]]"
   ]
  },
  {
   "cell_type": "code",
   "execution_count": null,
   "metadata": {
    "ExecuteTime": {
     "end_time": "2020-09-04T08:17:17.992692Z",
     "start_time": "2020-09-04T08:17:17.061401Z"
    }
   },
   "outputs": [],
   "source": [
    "%matplotlib inline\n",
    "plot_stat_map(stat_thresh_map)\n",
    "plt.show()"
   ]
  },
  {
   "cell_type": "markdown",
   "metadata": {},
   "source": [
    "## Find activation clusters in tresholded stat map"
   ]
  },
  {
   "cell_type": "code",
   "execution_count": null,
   "metadata": {
    "ExecuteTime": {
     "end_time": "2020-09-04T08:17:26.310004Z",
     "start_time": "2020-09-04T08:17:17.994416Z"
    },
    "scrolled": true
   },
   "outputs": [],
   "source": [
    "clusters, peaks = get_clusters(stat_thresh_map, 0, 5)\n",
    "print('%i clusters found, loading...\\n..\\n.\\n'%peaks.shape[0])\n",
    "cluster_list = peaks['ID'].unique()\n",
    "ROIs = dict()\n",
    "all_cluster_info = pd.DataFrame()\n",
    "for ID in cluster_list:\n",
    "    print(ID)\n",
    "    cluster_info = peaks.query('ID == @ID').copy()\n",
    "    cluster_peak_MNI = list(cluster_info.iloc[0].loc[['X','Y','Z']].values.flatten())\n",
    "    i,j,k = xyz_to_ijk(cluster_peak_MNI, p_map)\n",
    "    peak_p = p_map.get_data()[i,j,k]\n",
    "    cluster_info['peak_p'] = peak_p\n",
    "    cluster_info['size (nvox)'] = cluster_info['size']/27\n",
    "    display(cluster_info)\n",
    "    all_cluster_info = all_cluster_info.append(\n",
    "        cluster_info[['ID','X','Y','Z','size (nvox)','peak_value','peak_p']]).reset_index(drop=True)"
   ]
  },
  {
   "cell_type": "markdown",
   "metadata": {},
   "source": [
    "Put the names in manually as a dict, e.g.:"
   ]
  },
  {
   "cell_type": "code",
   "execution_count": null,
   "metadata": {},
   "outputs": [],
   "source": [
    "# cluster_names = {1:'rFEF',2:'lTPJ',3:'rMT',4:'rOFC',5:'lMT',6:'precuneus',7:'rTPJ',8:'lFEF',9:'lFEF',10:'precuneus'}"
   ]
  },
  {
   "cell_type": "code",
   "execution_count": null,
   "metadata": {},
   "outputs": [],
   "source": [
    "all_cluster_info['Region name'] = all_cluster_info['ID'].map(cluster_names)\n",
    "all_cluster_info = all_cluster_info.sort_values(by=['size (nvox)','peak_value'], ascending = False\n",
    "                                               ).reset_index(drop=True)\n",
    "all_cluster_info = all_cluster_info[['ID','Region name','size (nvox)','X','Y','Z','peak_value','peak_p']]\n",
    "all_cluster_info.head()"
   ]
  },
  {
   "cell_type": "code",
   "execution_count": null,
   "metadata": {},
   "outputs": [],
   "source": [
    "all_cluster_info.to_csv(results_dir + '/' + run_model_dir + \n",
    "                        '/ROI_list_term-%s.csv'%term)"
   ]
  },
  {
   "cell_type": "code",
   "execution_count": null,
   "metadata": {},
   "outputs": [],
   "source": []
  }
 ],
 "metadata": {
  "kernelspec": {
   "display_name": "Python 3",
   "language": "python",
   "name": "python3"
  },
  "language_info": {
   "codemirror_mode": {
    "name": "ipython",
    "version": 3
   },
   "file_extension": ".py",
   "mimetype": "text/x-python",
   "name": "python",
   "nbconvert_exporter": "python",
   "pygments_lexer": "ipython3",
   "version": "3.7.3"
  }
 },
 "nbformat": 4,
 "nbformat_minor": 2
}
