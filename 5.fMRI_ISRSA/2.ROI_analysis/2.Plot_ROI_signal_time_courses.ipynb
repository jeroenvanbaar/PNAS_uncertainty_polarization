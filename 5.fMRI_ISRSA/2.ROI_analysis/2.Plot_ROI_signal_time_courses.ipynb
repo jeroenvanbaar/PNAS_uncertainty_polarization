{
 "cells": [
  {
   "cell_type": "code",
   "execution_count": null,
   "metadata": {
    "ExecuteTime": {
     "end_time": "2020-10-02T14:46:12.332699Z",
     "start_time": "2020-10-02T14:46:09.668018Z"
    }
   },
   "outputs": [],
   "source": [
    "%matplotlib inline\n",
    "import os, sys, glob, scipy\n",
    "import numpy as np\n",
    "import pandas as pd\n",
    "import matplotlib.pyplot as plt\n",
    "import seaborn as sns\n",
    "import nilearn, nibabel, nltools, nistats\n",
    "from nltools.data import Brain_Data\n",
    "from nistats.reporting import get_clusters_table\n",
    "from nilearn.plotting import plot_stat_map, plot_roi, plot_img, plot_glass_brain\n",
    "from nilearn.input_data import NiftiMasker"
   ]
  },
  {
   "cell_type": "code",
   "execution_count": null,
   "metadata": {
    "ExecuteTime": {
     "end_time": "2020-10-02T14:46:12.338323Z",
     "start_time": "2020-10-02T14:46:12.334341Z"
    }
   },
   "outputs": [],
   "source": [
    "base_dir = os.path.realpath('../../..')\n",
    "print(base_dir)\n",
    "results_dir = os.path.realpath('../../../Results/voxelwise_ISRSA/nifti')"
   ]
  },
  {
   "cell_type": "markdown",
   "metadata": {},
   "source": [
    "##### Function definitions"
   ]
  },
  {
   "cell_type": "code",
   "execution_count": null,
   "metadata": {
    "ExecuteTime": {
     "end_time": "2020-10-02T14:46:12.349317Z",
     "start_time": "2020-10-02T14:46:12.340007Z"
    }
   },
   "outputs": [],
   "source": [
    "def get_clusters(image, threshold = 0, extent_threshold = 0, sort_by_size = False, include_peaks_only = True):\n",
    "    clusters = get_clusters_table(image, threshold, cluster_threshold = extent_threshold)\n",
    "    clusters = clusters.rename(columns = {'Cluster ID':'ID', 'Cluster Size (mm3)':'size',\n",
    "                                          'Peak Stat':'peak_value'})\n",
    "    if include_peaks_only:\n",
    "        peaks = clusters.copy()\n",
    "        peaks = peaks.loc[peaks['ID'].apply(lambda x: not str(x)[-1].isalpha()),:].reset_index(drop=True)\n",
    "#         peaks = peaks.sort_values(by = 'size', ascending = False).reset_index(drop=True)\n",
    "    if sort_by_size:\n",
    "        clusters = clusters.sort_values(by = 'size', ascending = False).reset_index(drop=True)\n",
    "    return clusters, peaks"
   ]
  },
  {
   "cell_type": "code",
   "execution_count": null,
   "metadata": {
    "ExecuteTime": {
     "end_time": "2020-10-02T14:46:12.354807Z",
     "start_time": "2020-10-02T14:46:12.350773Z"
    }
   },
   "outputs": [],
   "source": [
    "def xyz_to_ijk(MNI, image):\n",
    "    return list(np.linalg.inv(image.affine[:3,:3]).dot(MNI-image.affine[:3,3]).astype(int))"
   ]
  },
  {
   "cell_type": "code",
   "execution_count": null,
   "metadata": {
    "ExecuteTime": {
     "end_time": "2020-10-02T14:50:00.020700Z",
     "start_time": "2020-10-02T14:50:00.014499Z"
    }
   },
   "outputs": [],
   "source": [
    "def expand_cluster(image, cluster_peak_MNI, voxel_volume = 27):\n",
    "    \n",
    "    # Find IJK of peak\n",
    "    i,j,k = xyz_to_ijk(cluster_peak_MNI,image)\n",
    "    cluster_peak_IJK = [i,j,k]\n",
    "    print('MNI: %s, IJK: %s'%(cluster_peak_MNI, cluster_peak_IJK))\n",
    "    \n",
    "    # Double check that peak value is correct\n",
    "    peakval = image.get_data()[i][j][k]\n",
    "    print('Peak value extracted from image data array: %f'%peakval)\n",
    "    \n",
    "    # Binarize image\n",
    "    binarized = (image.get_data() != 0).astype(int)\n",
    "        \n",
    "    # Label each cluster with a different number, reserve 0 for empty voxels\n",
    "    conn_mat = np.zeros((3, 3, 3), int)  # 6-connectivity, aka NN1 or \"faces\"\n",
    "    conn_mat[1, 1, :] = 1\n",
    "    conn_mat[1, :, 1] = 1\n",
    "    conn_mat[:, 1, 1] = 1\n",
    "    label_map = scipy.ndimage.measurements.label(binarized, conn_mat)[0]\n",
    "    clust_image = nibabel.Nifti1Image(label_map, affine=image.affine)\n",
    "    \n",
    "    # Find voxels with same label as cluster peak\n",
    "    cluster_label = clust_image.get_data()[i,j,k]\n",
    "    cluster_ROI = (clust_image.get_data() == cluster_label).astype(int)\n",
    "    ROI_mask = nibabel.Nifti1Image(cluster_ROI, affine = image.affine)\n",
    "    print('Cluster ROI located')\n",
    "    print('Cluster size as extracted from image data array: %i voxels = %i mm^3'%(\n",
    "        sum(cluster_ROI.flatten()),sum(cluster_ROI.flatten())*voxel_volume))\n",
    "    \n",
    "    return cluster_peak_IJK, cluster_ROI, ROI_mask"
   ]
  },
  {
   "cell_type": "code",
   "execution_count": null,
   "metadata": {
    "ExecuteTime": {
     "end_time": "2020-10-02T14:46:13.946558Z",
     "start_time": "2020-10-02T14:46:13.943730Z"
    }
   },
   "outputs": [],
   "source": [
    "def load_sub_funx(sub, run, nifti_dir = \"/gpfs_home/jvanbaar/data/jvanbaar/polarization/derivatives/cleaning\"):\n",
    "    fname = nifti_dir + '/sub-%03d'%sub + '/ses-1/func/' + \\\n",
    "            'sub-%03d_ses-1_task-videoWatching_run-%i'%(sub,run) + \\\n",
    "            '_space-MNI152NLin2009cAsym_desc-cleaned_bold.nii.gz'\n",
    "    sub_funx = nilearn.image.load_img(fname)\n",
    "    return sub_funx"
   ]
  },
  {
   "cell_type": "code",
   "execution_count": null,
   "metadata": {
    "ExecuteTime": {
     "end_time": "2020-10-02T14:46:15.358149Z",
     "start_time": "2020-10-02T14:46:15.351158Z"
    }
   },
   "outputs": [],
   "source": [
    "def extract_sub_cluster_data(sub_funx, cluster_ID, cluster_peak_IJK, cluster_mask,\n",
    "                            return_peak_data = True,\n",
    "                            return_mean_cluster_data = True,\n",
    "                            return_full_cluster_data = False):\n",
    "    \n",
    "    return_dict = {}\n",
    "    \n",
    "    # Get values at peak\n",
    "    if return_peak_data:\n",
    "        i,j,k = cluster_peak_IJK\n",
    "        peak_data = sub_funx.get_data()[i,j,k]\n",
    "        peak_data = pd.DataFrame(peak_data, columns=['peak_BOLD']).reset_index()\n",
    "        peak_data = peak_data.rename(columns = {'index':'TR'})\n",
    "        peak_data['sub'] = sub\n",
    "        peak_data['cluster'] = cluster_ID\n",
    "        peak_data = peak_data[['sub','cluster','TR','peak_BOLD']]\n",
    "        return_dict['peak_data'] = peak_data\n",
    "    \n",
    "    # Get cluster data\n",
    "    if return_mean_cluster_data or return_full_cluster_data:\n",
    "        roi_masker = NiftiMasker(mask_img=cluster_mask).fit()\n",
    "        voxels_signals = roi_masker.transform(sub_funx)\n",
    "    \n",
    "    # Take mean across voxels\n",
    "    if return_mean_cluster_data:\n",
    "        mean_cluster_dat = pd.DataFrame(voxels_signals.mean(1)).reset_index()\n",
    "        mean_cluster_dat = mean_cluster_dat.rename(columns = {'index':'TR',0:'mean_BOLD'})\n",
    "        mean_cluster_dat['sub'] = sub\n",
    "        mean_cluster_dat['cluster'] = cluster_ID\n",
    "        mean_cluster_dat = mean_cluster_dat[['sub','cluster','TR','mean_BOLD']]\n",
    "        return_dict['mean_cluster_data'] = mean_cluster_dat\n",
    "    \n",
    "    # Return all voxel data\n",
    "    if return_full_cluster_data:\n",
    "        full_cluster_dat = pd.DataFrame(voxels_signals).melt(var_name = 'voxel', value_name = 'BOLD').reset_index()\n",
    "        full_cluster_dat = full_cluster_dat.rename(columns = {'index':'TR'})\n",
    "        full_cluster_dat['sub'] = sub\n",
    "        full_cluster_dat['cluster'] = cluster_ID\n",
    "        full_cluster_dat = full_cluster_dat[['sub','cluster','voxel','TR','BOLD']]\n",
    "        return_dict['full_cluster_data'] = full_cluster_dat\n",
    "    \n",
    "    return return_dict"
   ]
  },
  {
   "cell_type": "markdown",
   "metadata": {},
   "source": [
    "##### Select effect of interest"
   ]
  },
  {
   "cell_type": "code",
   "execution_count": null,
   "metadata": {
    "ExecuteTime": {
     "end_time": "2020-10-02T14:46:21.248464Z",
     "start_time": "2020-10-02T14:46:21.245255Z"
    }
   },
   "outputs": [],
   "source": [
    "run = 3\n",
    "filter_TR = False\n",
    "TR_start = 1\n",
    "TR_end = 711\n",
    "model = 'ideology'\n",
    "term = 'ideosim'\n",
    "threshold = 'fdr'\n",
    "extent_threshold = True\n",
    "extent = 5\n",
    "if extent_threshold:\n",
    "    total_threshold = threshold + '_ext-%i'%extent\n",
    "else:\n",
    "    total_threshold = threshold"
   ]
  },
  {
   "cell_type": "code",
   "execution_count": null,
   "metadata": {
    "ExecuteTime": {
     "end_time": "2020-10-02T14:46:21.887315Z",
     "start_time": "2020-10-02T14:46:21.881829Z"
    }
   },
   "outputs": [],
   "source": [
    "run_model_dir = ('run-%i_TRs-%i-%i_model-%s'%(run,TR_start,TR_end,model) \n",
    "                     if filter_TR else 'run-%i_model-%s'%(run,model))\n",
    "search_string = '%s/%s/*%s*%s.ni*'%(results_dir, run_model_dir, term, total_threshold)\n",
    "print(search_string)\n",
    "fpath = glob.glob(search_string)[0]\n",
    "print(fpath)"
   ]
  },
  {
   "cell_type": "code",
   "execution_count": null,
   "metadata": {
    "ExecuteTime": {
     "end_time": "2020-10-02T14:46:24.234800Z",
     "start_time": "2020-10-02T14:46:24.227618Z"
    }
   },
   "outputs": [],
   "source": [
    "image = nilearn.image.load_img(fpath)"
   ]
  },
  {
   "cell_type": "code",
   "execution_count": null,
   "metadata": {
    "ExecuteTime": {
     "end_time": "2020-10-02T14:46:35.154977Z",
     "start_time": "2020-10-02T14:46:34.262214Z"
    }
   },
   "outputs": [],
   "source": [
    "%matplotlib inline\n",
    "plot_stat_map(image)\n",
    "plt.show()"
   ]
  },
  {
   "cell_type": "markdown",
   "metadata": {},
   "source": [
    "##### Find activation clusters in tresholded stat map"
   ]
  },
  {
   "cell_type": "code",
   "execution_count": null,
   "metadata": {
    "ExecuteTime": {
     "end_time": "2020-10-02T14:50:21.308154Z",
     "start_time": "2020-10-02T14:50:07.887243Z"
    },
    "scrolled": true
   },
   "outputs": [],
   "source": [
    "clusters, peaks = get_clusters(image, 0, 5)\n",
    "print('%i clusters found, loading...\\n..\\n.\\n'%peaks.shape[0])\n",
    "cluster_list = peaks['ID'].unique()\n",
    "ROIs = dict()\n",
    "for ID in cluster_list:\n",
    "    print(ID, end = ',')\n",
    "    cluster_info = peaks.query('ID == @ID')\n",
    "#     display(cluster_info)\n",
    "    cluster_peak_MNI = list(cluster_info.iloc[0].loc[['X','Y','Z']].values.flatten())\n",
    "    cluster_peak_IJK, cluster_voxels, cluster_mask = expand_cluster(image, cluster_peak_MNI)\n",
    "    ROIs[ID] = {'peak_IJK':cluster_peak_IJK,'mask':cluster_mask}\n",
    "ROIs"
   ]
  },
  {
   "cell_type": "markdown",
   "metadata": {},
   "source": [
    "##### Select ROI"
   ]
  },
  {
   "cell_type": "code",
   "execution_count": null,
   "metadata": {
    "ExecuteTime": {
     "end_time": "2020-10-02T14:46:51.163957Z",
     "start_time": "2020-10-02T14:46:51.143963Z"
    }
   },
   "outputs": [],
   "source": [
    "peaks_VMPFC = peaks.query('X > 5 and X < 20 and Y > 15 and Y < 30').sort_values(by = ['X','Y','Z'])\n",
    "peaks_VMPFC"
   ]
  },
  {
   "cell_type": "code",
   "execution_count": null,
   "metadata": {
    "ExecuteTime": {
     "end_time": "2020-10-02T14:57:21.244931Z",
     "start_time": "2020-10-02T14:57:20.480875Z"
    }
   },
   "outputs": [],
   "source": [
    "plot_roi(mask, cut_coords = [10], display_mode = 'x')"
   ]
  },
  {
   "cell_type": "code",
   "execution_count": null,
   "metadata": {
    "ExecuteTime": {
     "end_time": "2020-10-02T14:46:51.994010Z",
     "start_time": "2020-10-02T14:46:51.165574Z"
    }
   },
   "outputs": [],
   "source": [
    "MNI_peak = peaks_VMPFC.iloc[0][['X','Y','Z']]\n",
    "plot_stat_map(image, cut_coords = MNI_peak)"
   ]
  },
  {
   "cell_type": "code",
   "execution_count": null,
   "metadata": {
    "ExecuteTime": {
     "end_time": "2020-10-02T14:50:22.134596Z",
     "start_time": "2020-10-02T14:50:22.132253Z"
    }
   },
   "outputs": [],
   "source": [
    "cluster_ID = peaks_VMPFC.iloc[0]['ID']"
   ]
  },
  {
   "cell_type": "code",
   "execution_count": null,
   "metadata": {
    "ExecuteTime": {
     "end_time": "2020-10-02T14:57:29.655689Z",
     "start_time": "2020-10-02T14:57:29.652656Z"
    }
   },
   "outputs": [],
   "source": [
    "cluster_peak_IJK, cluster_mask = [ROIs[cluster_ID][key] for key in ['peak_IJK','mask']]"
   ]
  },
  {
   "cell_type": "markdown",
   "metadata": {},
   "source": [
    "##### Select subjects to plot"
   ]
  },
  {
   "cell_type": "code",
   "execution_count": null,
   "metadata": {
    "ExecuteTime": {
     "end_time": "2020-10-02T15:18:32.056230Z",
     "start_time": "2020-10-02T15:18:32.050192Z"
    }
   },
   "outputs": [],
   "source": [
    "lib_pair = [16,45]\n",
    "con_pair = [20,35]\n",
    "all_plot_subs = lib_pair + con_pair\n",
    "print(all_plot_subs)"
   ]
  },
  {
   "cell_type": "markdown",
   "metadata": {},
   "source": [
    "## Sphere-based method"
   ]
  },
  {
   "cell_type": "code",
   "execution_count": null,
   "metadata": {
    "ExecuteTime": {
     "end_time": "2020-10-02T15:14:56.394992Z",
     "start_time": "2020-10-02T15:14:56.391643Z"
    }
   },
   "outputs": [],
   "source": [
    "from nltools.mask import create_sphere"
   ]
  },
  {
   "cell_type": "code",
   "execution_count": null,
   "metadata": {
    "ExecuteTime": {
     "end_time": "2020-10-02T15:21:30.582722Z",
     "start_time": "2020-10-02T15:21:30.580145Z"
    }
   },
   "outputs": [],
   "source": [
    "radius = 6\n",
    "masker = nilearn.input_data.NiftiSpheresMasker([MNI_peak], radius, standardize=False)"
   ]
  },
  {
   "cell_type": "code",
   "execution_count": null,
   "metadata": {
    "ExecuteTime": {
     "end_time": "2020-10-02T15:16:30.580615Z",
     "start_time": "2020-10-02T15:15:21.462922Z"
    }
   },
   "outputs": [],
   "source": [
    "run = 3\n",
    "all_out = pd.DataFrame()\n",
    "for sub in all_plot_subs:\n",
    "    print(sub)\n",
    "    sub_funx = load_sub_funx(sub, run)\n",
    "    out = masker.fit_transform(sub_funx)\n",
    "    to_append = pd.DataFrame(out, columns = ['BOLD'])\n",
    "    to_append['sub'] = sub\n",
    "    to_append['TR'] = np.arange(1,np.shape(to_append)[0]+1)\n",
    "    all_out = all_out.append(to_append)"
   ]
  },
  {
   "cell_type": "code",
   "execution_count": null,
   "metadata": {
    "ExecuteTime": {
     "end_time": "2020-10-02T15:29:57.553124Z",
     "start_time": "2020-10-02T15:29:57.536723Z"
    }
   },
   "outputs": [],
   "source": [
    "# Select data\n",
    "n_minutes = 2\n",
    "tcdat = all_out.query('TR > 3 and TR <= %i'%(4 + n_minutes*40)).copy()\n",
    "tcdat['time (s)'] = tcdat['TR']*1.5 - 6\n",
    "plotdat = tcdat.pivot(index = 'time (s)', columns = 'sub', values = 'BOLD')\n",
    "plotdat = plotdat.apply(scipy.stats.zscore)\n",
    "\n",
    "# Remove outlier TRs\n",
    "outlier_z = 30 #no outliers remove\n",
    "len_before = np.shape(plotdat)[0]\n",
    "plotdat = plotdat.iloc[np.where(((plotdat > -outlier_z) & (plotdat < outlier_z)).product(axis=1))[0],:].reset_index()\n",
    "len_after = np.shape(plotdat)[0]\n",
    "print('%i outlier TRs dropped'%(len_before - len_after))\n",
    "\n",
    "# Smooth using rolling average\n",
    "window_length_TRs = 4\n",
    "plotdat = plotdat.rolling(window_length_TRs).mean()"
   ]
  },
  {
   "cell_type": "code",
   "execution_count": null,
   "metadata": {
    "ExecuteTime": {
     "end_time": "2020-10-02T15:29:58.901198Z",
     "start_time": "2020-10-02T15:29:58.889757Z"
    }
   },
   "outputs": [],
   "source": [
    "plotdat"
   ]
  },
  {
   "cell_type": "code",
   "execution_count": null,
   "metadata": {
    "ExecuteTime": {
     "end_time": "2020-10-02T15:30:01.498729Z",
     "start_time": "2020-10-02T15:30:01.334085Z"
    }
   },
   "outputs": [],
   "source": [
    "sphere = create_sphere(MNI_peak, radius = radius,mask = cluster_mask)"
   ]
  },
  {
   "cell_type": "code",
   "execution_count": null,
   "metadata": {
    "ExecuteTime": {
     "end_time": "2020-10-02T15:30:02.849530Z",
     "start_time": "2020-10-02T15:30:02.846086Z"
    }
   },
   "outputs": [],
   "source": [
    "model = 'ideology'\n",
    "run_model_dir = 'run-%i_model-%s'%(run,model)\n",
    "run_model_dir"
   ]
  },
  {
   "cell_type": "code",
   "execution_count": null,
   "metadata": {
    "ExecuteTime": {
     "end_time": "2020-10-02T15:30:04.471823Z",
     "start_time": "2020-10-02T15:30:03.029521Z"
    }
   },
   "outputs": [],
   "source": [
    "# Plot\n",
    "fig,axes = plt.subplots(nrows=1, ncols=2, gridspec_kw = {'width_ratios':[1,4]}, figsize = [12,3])\n",
    "plot_roi(sphere, cut_coords = [10], cmap = 'spring', alpha = 1, vmax = 1, display_mode = 'x', axes = axes[0])\n",
    "ax = axes[1]\n",
    "for si,s in enumerate(all_plot_subs):\n",
    "    color = 'red' if s in con_pair else 'blue'\n",
    "    pole = 'C' if s in con_pair else 'L'\n",
    "    ideology = ID_dat.query('SubID == @s')['IdeologyScale_1'].iloc[0]\n",
    "    ax.plot(plotdat['time (s)'], plotdat[s], label = 'Subject %i, ideology %i (%s)'%(s,ideology,pole),\n",
    "                color = color, alpha = .5, lw = 2)\n",
    "ax.legend()\n",
    "ax.set(xlabel = 'Time (s)', ylabel = 'BOLD (z)', title = 'Orbitofrontal cortex activity during video 3');\n",
    "plt.savefig('%s/%s/timecourses_%s-ROI-%i_peak-sphere-%imm.pdf'%(results_dir, run_model_dir, term, cluster_ID, radius),\n",
    "            transparent = True, bbox_inches = 'tight');"
   ]
  }
 ],
 "metadata": {
  "kernelspec": {
   "display_name": "Python 3",
   "language": "python",
   "name": "python3"
  },
  "language_info": {
   "codemirror_mode": {
    "name": "ipython",
    "version": 3
   },
   "file_extension": ".py",
   "mimetype": "text/x-python",
   "name": "python",
   "nbconvert_exporter": "python",
   "pygments_lexer": "ipython3",
   "version": "3.7.3"
  }
 },
 "nbformat": 4,
 "nbformat_minor": 2
}
