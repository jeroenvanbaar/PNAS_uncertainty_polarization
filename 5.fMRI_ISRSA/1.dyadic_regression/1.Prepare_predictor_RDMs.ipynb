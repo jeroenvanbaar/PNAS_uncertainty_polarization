{
 "cells": [
  {
   "cell_type": "code",
   "execution_count": null,
   "metadata": {},
   "outputs": [],
   "source": [
    "import os\n",
    "import numpy as np\n",
    "import pandas as pd\n",
    "import scipy as sp\n",
    "import scipy.spatial\n",
    "import scipy.stats\n",
    "import matplotlib.pyplot as plt\n",
    "import seaborn as sns\n",
    "import re\n",
    "from sklearn.metrics.pairwise import cosine_similarity"
   ]
  },
  {
   "cell_type": "code",
   "execution_count": null,
   "metadata": {},
   "outputs": [],
   "source": [
    "base_dir = os.path.realpath('../../..')\n",
    "print(base_dir)\n",
    "data_dir = base_dir + '/Data'"
   ]
  },
  {
   "cell_type": "code",
   "execution_count": null,
   "metadata": {},
   "outputs": [],
   "source": [
    "ID_dat = pd.read_csv(data_dir +'/Cleaned/Surveys/ID_dat.csv', index_col=0)"
   ]
  },
  {
   "cell_type": "code",
   "execution_count": null,
   "metadata": {},
   "outputs": [],
   "source": [
    "[print(asd, end = '\\t\\t') for asd in ID_dat.columns];"
   ]
  },
  {
   "cell_type": "code",
   "execution_count": null,
   "metadata": {
    "scrolled": true
   },
   "outputs": [],
   "source": [
    "[a for a in ID_dat.columns if 'IUS' in a]"
   ]
  },
  {
   "cell_type": "code",
   "execution_count": null,
   "metadata": {},
   "outputs": [],
   "source": [
    "cols = ['SubID','IdeologyScale_1','pole','activism_score','NFC_mean','IUS_mean','PCA_comp1','PCA_comp2',\n",
    "        'Scan_day','Age','Gender','Undergrad','Brown_community']"
   ]
  },
  {
   "cell_type": "code",
   "execution_count": null,
   "metadata": {},
   "outputs": [],
   "source": [
    "ius_cols = [i for i in ID_dat.columns if 'IUS' in i][:-2]\n",
    "cols.extend(ius_cols)"
   ]
  },
  {
   "cell_type": "code",
   "execution_count": null,
   "metadata": {},
   "outputs": [],
   "source": [
    "news_cols = [i for i in ID_dat.columns if 'consume' in i]\n",
    "news_cols.append('SubID')"
   ]
  },
  {
   "cell_type": "code",
   "execution_count": null,
   "metadata": {},
   "outputs": [],
   "source": [
    "news_dat = ID_dat[news_cols].copy()"
   ]
  },
  {
   "cell_type": "code",
   "execution_count": null,
   "metadata": {},
   "outputs": [],
   "source": [
    "ID_dat = ID_dat[cols]"
   ]
  },
  {
   "cell_type": "code",
   "execution_count": null,
   "metadata": {
    "scrolled": true
   },
   "outputs": [],
   "source": [
    "ID_dat.head()"
   ]
  },
  {
   "cell_type": "markdown",
   "metadata": {},
   "source": [
    "## Make predictor RDMs"
   ]
  },
  {
   "cell_type": "markdown",
   "metadata": {},
   "source": [
    "##### Predictors of interest\n",
    "- scale_ideology_similarity\n",
    "- ideology_pair (within c, within l, across)\n",
    "- ideology_same (within, across)\n",
    "- joint_activism\n",
    "(The two activism scores multiplied and normalized to be between 0 and 1 => low scores indicate neither subject has high activism, the highest scores indicate both subjects have high activism)\n",
    "- joint_NFC\n",
    "(The two NFC scores multiplied and normalized to be between 0 and 1 => low scores indicate neither subject has high NFC, the highest scores indicate both subjects have high NFC)\n",
    "- joint_IUS\n",
    "(The two IUS scores multiplied and normalized to be between 0 and 1 => low scores indicate neither subject has high IUS, the highest scores indicate both subjects have high IUS)\n",
    "- sum_IUS\n",
    "The two IUS scores added together and normalized to be between 0 and 1 => low scores indicate neither subject has high IUS, the highest scores indicate both subjects have high IUS)\n",
    "- IUS_sim_univariate\n",
    "1 - distance between the two subjects' IUS scores as a % of the maximal distance\n",
    "- IUS_sim_multivariate\n",
    "Cosine similarity between IUS response set of the two subjects\n",
    "- scale_PCA1_similarity, scale_PCA2_similarity\n",
    "(First and second principal components from the PCA on the political individual difference measures (social and economic conservatism scale, social dominance orientation, right-wing authoritarianism, left-wing authoritarianism, Schwarz’s short value survey))\n",
    "\n",
    "##### Controls\n",
    "- scale_age_distance\n",
    "- scale_scan_day_distance\n",
    "- same_gender\n",
    "- same_undergrad\n",
    "- same_community"
   ]
  },
  {
   "cell_type": "code",
   "execution_count": null,
   "metadata": {},
   "outputs": [],
   "source": [
    "ID_dat.head()"
   ]
  },
  {
   "cell_type": "code",
   "execution_count": null,
   "metadata": {
    "scrolled": true
   },
   "outputs": [],
   "source": [
    "RDMs = pd.DataFrame()\n",
    "k=0\n",
    "k_lim = 2000\n",
    "for sub1 in ID_dat['SubID'].unique():\n",
    "    print('sub-%03d '%sub1, end = '')\n",
    "    for sub2 in ID_dat['SubID'].unique():\n",
    "        print('.', end = '')\n",
    "        if sub1 != sub2:\n",
    "            sub1dat = ID_dat.query('SubID == @sub1').iloc[0,:]\n",
    "            sub2dat = ID_dat.query('SubID == @sub2').iloc[0,:]\n",
    "            to_append = pd.Series()\n",
    "            to_append['SubID1'] = sub1\n",
    "            to_append['SubID2'] = sub2\n",
    "            # Ideology\n",
    "            to_append['ideology_similarity'] = 100 - np.abs(sub1dat['IdeologyScale_1'] - sub2dat['IdeologyScale_1'])\n",
    "            # Party (con/lib)\n",
    "            if (sub1dat['pole'] == 'L') and (sub2dat['pole'] == 'L'):\n",
    "                to_append['ideology_pair'] = 'Within_lib'\n",
    "                to_append['ideology_same'] = 'Within_group'\n",
    "            elif (sub1dat['pole'] == 'C') and (sub2dat['pole'] == 'C'):\n",
    "                to_append['ideology_pair'] = 'Within_con'\n",
    "                to_append['ideology_same'] = 'Within_group'\n",
    "            else:\n",
    "                to_append['ideology_pair'] = 'Between'\n",
    "                to_append['ideology_same'] = 'Between_group'\n",
    "            # Activism\n",
    "            to_append['joint_activism'] = (sub1dat['activism_score'] * sub2dat['activism_score'])/(7*7)\n",
    "            # joint_NFC\n",
    "            to_append['joint_NFC'] = (sub1dat['NFC_mean'] * sub2dat['NFC_mean'])/(6*6)\n",
    "            # joint_IUS\n",
    "            to_append['joint_IUS'] = (sub1dat['IUS_mean'] * sub2dat['IUS_mean'])/(5*5)\n",
    "            # Sum IUS\n",
    "            to_append['sum_IUS'] = (sub1dat['IUS_mean'] + sub2dat['IUS_mean'])/(5 + 5)\n",
    "            # IUS_sim_univariate\n",
    "            to_append['IUS_sim_univariate'] = 1 - np.abs(sub1dat['IUS_mean'] - sub2dat['IUS_mean'])/4.\n",
    "            # IUS_sim_multivariate\n",
    "            dat1 = sub1dat[ius_cols].values\n",
    "            dat2 = sub2dat[ius_cols].values\n",
    "            nonan = np.where((~sub1dat[ius_cols].isnull()) & (~sub2dat[ius_cols].isnull()))[0] # Drop nans\n",
    "            to_append['IUS_sim_multivariate'] = scipy.stats.pearsonr(dat1[nonan],dat2[nonan])[0] # This can still be nan if subject put the same score everywhere\n",
    "            # PCA\n",
    "            to_append['PCA1_similarity'] = 16 - np.abs(sub1dat['PCA_comp1'] - sub2dat['PCA_comp1'])\n",
    "            to_append['PCA2_similarity'] = 16 - np.abs(sub1dat['PCA_comp2'] - sub2dat['PCA_comp2'])\n",
    "            # Controls\n",
    "            to_append['scan_day_distance'] = np.abs(sub1dat['Scan_day'] - sub2dat['Scan_day'])\n",
    "            to_append['age_distance'] = np.abs(sub1dat['Age'] - sub2dat['Age'])\n",
    "            to_append['same_gender'] = sub1dat['Gender'] == sub2dat['Gender']\n",
    "            to_append['same_undergrad'] = sub1dat['Undergrad'] == sub2dat['Undergrad']\n",
    "            to_append['same_community'] = sub1dat['Brown_community'] == sub2dat['Brown_community']\n",
    "            # Append\n",
    "            RDMs = RDMs.append(pd.DataFrame(to_append).T).reset_index(drop=True)\n",
    "            k += 1\n",
    "        \n",
    "        if k > k_lim:\n",
    "            break\n",
    "    print('')\n",
    "    if k > k_lim:\n",
    "        break\n",
    "if k < k_lim:\n",
    "    print('All subject pairs completed.')"
   ]
  },
  {
   "cell_type": "code",
   "execution_count": null,
   "metadata": {
    "scrolled": true
   },
   "outputs": [],
   "source": [
    "RDMs.query('SubID1 == 34')"
   ]
  },
  {
   "cell_type": "code",
   "execution_count": null,
   "metadata": {},
   "outputs": [],
   "source": [
    "np.shape(RDMs)"
   ]
  },
  {
   "cell_type": "code",
   "execution_count": null,
   "metadata": {},
   "outputs": [],
   "source": [
    "RDMs.to_csv(data_dir +'/Cleaned/Surveys/predictor_RDMs_4.csv', index=None)"
   ]
  }
 ],
 "metadata": {
  "kernelspec": {
   "display_name": "Python 3",
   "language": "python",
   "name": "python3"
  },
  "language_info": {
   "codemirror_mode": {
    "name": "ipython",
    "version": 3
   },
   "file_extension": ".py",
   "mimetype": "text/x-python",
   "name": "python",
   "nbconvert_exporter": "python",
   "pygments_lexer": "ipython3",
   "version": "3.7.3"
  }
 },
 "nbformat": 4,
 "nbformat_minor": 2
}
