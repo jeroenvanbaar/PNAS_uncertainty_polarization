{
 "cells": [
  {
   "cell_type": "code",
   "execution_count": null,
   "metadata": {},
   "outputs": [],
   "source": [
    "import os, sys, glob, scipy\n",
    "import numpy as np\n",
    "import pandas as pd\n",
    "import matplotlib.pyplot as plt\n",
    "import seaborn as sns\n",
    "import nilearn, nibabel, nltools\n",
    "from nltools.data import Brain_Data\n",
    "from nilearn.plotting import plot_glass_brain, plot_img, plot_stat_map\n",
    "from nistats.reporting import get_clusters_table"
   ]
  },
  {
   "cell_type": "code",
   "execution_count": null,
   "metadata": {},
   "outputs": [],
   "source": [
    "def get_clusters(image, threshold = 0, extent_threshold = 0, sort_by_size = False, include_peaks_only = True):\n",
    "    clusters = get_clusters_table(image, threshold, cluster_threshold = extent_threshold)\n",
    "    clusters = clusters.rename(columns = {'Cluster ID':'ID', 'Cluster Size (mm3)':'size',\n",
    "                                          'Peak Stat':'peak_value'})\n",
    "    if include_peaks_only:\n",
    "        peaks = clusters.copy()\n",
    "        peaks = peaks.loc[peaks['ID'].apply(lambda x: not str(x)[-1].isalpha()),:].reset_index(drop=True)\n",
    "#         peaks = peaks.sort_values(by = 'size', ascending = False).reset_index(drop=True)\n",
    "    if sort_by_size:\n",
    "        clusters = clusters.sort_values(by = 'size', ascending = False).reset_index(drop=True)\n",
    "    return clusters, peaks"
   ]
  },
  {
   "cell_type": "code",
   "execution_count": null,
   "metadata": {},
   "outputs": [],
   "source": [
    "results_dir = os.path.realpath('../../../Results/voxelwise_ISRSA/nifti')\n",
    "results_dir"
   ]
  },
  {
   "cell_type": "markdown",
   "metadata": {},
   "source": [
    "## Select run and model"
   ]
  },
  {
   "cell_type": "code",
   "execution_count": null,
   "metadata": {},
   "outputs": [],
   "source": [
    "run = 3\n",
    "filter_TR = False\n",
    "TR_start = 1\n",
    "TR_end = 711\n",
    "model = 'ideology_IUS'\n",
    "thresholds = ['fdr-0.05']"
   ]
  },
  {
   "cell_type": "code",
   "execution_count": null,
   "metadata": {},
   "outputs": [],
   "source": [
    "if filter_TR:\n",
    "    predictor_list = glob.glob(results_dir + '/run-%i_TRs-%i-%i_model-%s/*fdr*.nii.gz'%(run,TR_start,TR_end,model))\n",
    "else:\n",
    "    predictor_list = glob.glob(results_dir + '/run-%i_model-%s/*fdr*.nii.gz'%(run,model))\n",
    "predictor_list = [i.split('/')[-1][19:-30] for i in predictor_list]\n",
    "predictor_list = [i for i in predictor_list if i not in [\n",
    "    '(Intercept)','same_communityTRUE', 'scale(scan_day_distance)',\n",
    "    'scale(age_distance)','same_genderTRUE','same_undergradTRUE']]\n",
    "predictor_list = [i for i in predictor_list if '*' not in i]\n",
    "predictor_list = sorted(predictor_list)\n",
    "predictor_list"
   ]
  },
  {
   "cell_type": "markdown",
   "metadata": {},
   "source": [
    "## Plot results for predictor"
   ]
  },
  {
   "cell_type": "code",
   "execution_count": null,
   "metadata": {
    "scrolled": false
   },
   "outputs": [],
   "source": [
    "for predictor in predictor_list:\n",
    "    print('*****\\n%s'%predictor)\n",
    "    for threshold in thresholds:\n",
    "        print('\\n%s\\n'%threshold)\n",
    "        fname = results_dir + '/run-%i_model-%s/dyad_ISC_regressor-%s_beta-thr-pval-%s.nii.gz'%(\n",
    "            run, model, predictor, threshold)\n",
    "        print(fname)\n",
    "        plot_stat_map(fname)\n",
    "        plt.show()\n",
    "        print('\\n')\n",
    "    print('\\n\\n')"
   ]
  },
  {
   "cell_type": "markdown",
   "metadata": {},
   "source": [
    "## Report clusters"
   ]
  },
  {
   "cell_type": "code",
   "execution_count": null,
   "metadata": {},
   "outputs": [],
   "source": [
    "beta_map_thresh = nilearn.image.load_img(fname)"
   ]
  },
  {
   "cell_type": "code",
   "execution_count": null,
   "metadata": {},
   "outputs": [],
   "source": [
    "clusters, peaks = get_clusters(beta_map_thresh, threshold = 0, extent_threshold = 10, include_peaks_only = True)\n",
    "clusters"
   ]
  }
 ],
 "metadata": {
  "kernelspec": {
   "display_name": "Python 3",
   "language": "python",
   "name": "python3"
  },
  "language_info": {
   "codemirror_mode": {
    "name": "ipython",
    "version": 3
   },
   "file_extension": ".py",
   "mimetype": "text/x-python",
   "name": "python",
   "nbconvert_exporter": "python",
   "pygments_lexer": "ipython3",
   "version": "3.7.3"
  }
 },
 "nbformat": 4,
 "nbformat_minor": 2
}
